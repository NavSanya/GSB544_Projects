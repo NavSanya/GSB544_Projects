{
  "cells": [
    {
      "cell_type": "markdown",
      "metadata": {
        "id": "8p1mF9p_njvq"
      },
      "source": [
        "0. Load the `penguins` dataset from the `palmerpenguins` library, as well as any other libraries you need.\n",
        "\n"
      ]
    },
    {
      "cell_type": "code",
      "execution_count": 4,
      "metadata": {
        "id": "B0wyLoBRngwh"
      },
      "outputs": [
        {
          "name": "stderr",
          "output_type": "stream",
          "text": [
            "C:\\Users\\navsa\\AppData\\Local\\Programs\\Python\\Python313\\Lib\\site-packages\\palmerpenguins\\penguins.py:2: UserWarning: pkg_resources is deprecated as an API. See https://setuptools.pypa.io/en/latest/pkg_resources.html. The pkg_resources package is slated for removal as early as 2025-11-30. Refrain from using this package or pin to Setuptools<81.\n",
            "  import pkg_resources\n"
          ]
        }
      ],
      "source": [
        "import pandas as pd\n",
        "from palmerpenguins import load_penguins\n",
        "import numpy as np"
      ]
    },
    {
      "cell_type": "code",
      "execution_count": 19,
      "metadata": {},
      "outputs": [],
      "source": [
        "\n",
        "def sqrt_pos_unvec(x):\n",
        "        squares = []\n",
        "        if x>0:\n",
        "                squares.append(np.sqrt(x))\n",
        "        print(squares)"
      ]
    },
    {
      "cell_type": "code",
      "execution_count": 20,
      "metadata": {},
      "outputs": [],
      "source": [
        "def sqrt_pos_vec(arr):\n",
        "        arr = np.array(arr, dtype=float) \n",
        "        is_pos = arr > 0\n",
        "        squares = np.where(is_pos, np.sqrt(arr), np.nan)\n",
        "        print(squares)"
      ]
    },
    {
      "cell_type": "code",
      "execution_count": 21,
      "metadata": {},
      "outputs": [
        {
          "name": "stdout",
          "output_type": "stream",
          "text": [
            "[]\n",
            "[]\n",
            "[np.float64(1.7320508075688772)]\n",
            "[np.float64(2.0)]\n",
            "[]\n",
            "[np.float64(3.1622776601683795)]\n",
            "[np.float64(3.0)]\n",
            "[       nan        nan 1.73205081 2.                nan 3.16227766\n",
            " 3.        ]\n"
          ]
        },
        {
          "name": "stderr",
          "output_type": "stream",
          "text": [
            "<positron-console-cell-21>:4: RuntimeWarning: invalid value encountered in sqrt\n"
          ]
        }
      ],
      "source": [
        "arr = [-1,-2,3,4,-5,10,9]\n",
        "for x in arr:\n",
        "        sqrt_pos_unvec(x)\n",
        "sqrt_pos_vec(arr)"
      ]
    },
    {
      "cell_type": "code",
      "execution_count": 8,
      "metadata": {},
      "outputs": [],
      "source": [
        "penguins = load_penguins()"
      ]
    },
    {
      "cell_type": "code",
      "execution_count": null,
      "metadata": {},
      "outputs": [
        {
          "name": "stdout",
          "output_type": "stream",
          "text": [
            "       species     island  bill_length_mm  ...  body_mass_g     sex  year\n",
            "0       Adelie  Torgersen            39.1  ...       3750.0    male  2007\n",
            "1       Adelie  Torgersen            39.5  ...       3800.0  female  2007\n",
            "2       Adelie  Torgersen            40.3  ...       3250.0  female  2007\n",
            "3       Adelie  Torgersen             NaN  ...          NaN     NaN  2007\n",
            "4       Adelie  Torgersen            36.7  ...       3450.0  female  2007\n",
            "..         ...        ...             ...  ...          ...     ...   ...\n",
            "339  Chinstrap      Dream            55.8  ...       4000.0    male  2009\n",
            "340  Chinstrap      Dream            43.5  ...       3400.0  female  2009\n",
            "341  Chinstrap      Dream            49.6  ...       3775.0    male  2009\n",
            "342  Chinstrap      Dream            50.8  ...       4100.0    male  2009\n",
            "343  Chinstrap      Dream            50.2  ...       3775.0  female  2009\n",
            "\n",
            "[344 rows x 8 columns]\n"
          ]
        }
      ],
      "source": [
        "print(penguins)"
      ]
    },
    {
      "cell_type": "markdown",
      "metadata": {
        "id": "LUURcsjcnrA3"
      },
      "source": [
        "1. Write a function that takes in information about a penguin, and returns one of the following definitions:\n",
        "\n",
        "*   \"Big Mouth Billy\": Male penguins with bill length times bill depth greater than 800.\n",
        "*   \"Dainty Daisy\": Female penguins with flipper length less than 5% of body mass.\n",
        "*   \"Average Adelie:\" Any Adelie penguins that do not fall into either category.\n",
        "*   \"Other\": Any penguins that do not fall into any of the categories.\n",
        "\n"
      ]
    },
    {
      "cell_type": "code",
      "execution_count": 10,
      "metadata": {
        "id": "udKVPIJmpKG_"
      },
      "outputs": [],
      "source": [
        "def classify_penguin(row):\n",
        "        # Handle missing values gracefully\n",
        "        if pd.isnull(row[\"bill_length_mm\"]) or pd.isnull(row[\"bill_depth_mm\"]) or \\\n",
        "        pd.isnull(row[\"flipper_length_mm\"]) or pd.isnull(row[\"body_mass_g\"]) or \\\n",
        "        pd.isnull(row[\"sex\"]) or pd.isnull(row[\"species\"]):\n",
        "                return \"Other\"\n",
        "\n",
        "        # Rule 1: Big Mouth Billy\n",
        "        if (row[\"sex\"].lower() == \"male\") and (row[\"bill_length_mm\"] * row[\"bill_depth_mm\"] > 800):\n",
        "                return \"Big Mouth Billy\"\n",
        "        \n",
        "        # Rule 2: Dainty Daisy\n",
        "        if (row[\"sex\"].lower() == \"female\") and (row[\"flipper_length_mm\"] < 0.05 * row[\"body_mass_g\"]):\n",
        "                return \"Dainty Daisy\"\n",
        "        \n",
        "        # Rule 3: Average Adelie\n",
        "        if row[\"species\"].lower() == \"adelie\":\n",
        "                return \"Average Adelie\"\n",
        "        \n",
        "        # Rule 4: Other\n",
        "        return \"Other\""
      ]
    },
    {
      "cell_type": "markdown",
      "metadata": {
        "id": "L3cOiPwJo_q5"
      },
      "source": [
        "2. Use an iterable function to create a new variable called `category_name` that adds these labels."
      ]
    },
    {
      "cell_type": "code",
      "execution_count": 11,
      "metadata": {
        "id": "AJk_DHBDpKvV"
      },
      "outputs": [],
      "source": [
        "penguins[\"category_name\"] = penguins.apply(classify_penguin, axis=1)"
      ]
    },
    {
      "cell_type": "markdown",
      "metadata": {
        "id": "wzjur3hzpLxr"
      },
      "source": [
        "3. Run the following code to find the counts for each type."
      ]
    },
    {
      "cell_type": "code",
      "execution_count": 12,
      "metadata": {
        "id": "iDHDAKOXpPOm"
      },
      "outputs": [
        {
          "data": {
            "text/plain": [
              "category_name\n",
              "Average Adelie     121\n",
              "Other               90\n",
              "Big Mouth Billy     71\n",
              "Dainty Daisy        62\n",
              "Name: count, dtype: int64"
            ]
          },
          "execution_count": null,
          "metadata": {},
          "output_type": "execute_result"
        }
      ],
      "source": [
        "penguins.value_counts(\"category_name\")"
      ]
    }
  ],
  "metadata": {
    "colab": {
      "provenance": []
    },
    "kernelspec": {
      "display_name": "Python 3",
      "name": "python3"
    },
    "language_info": {
      "name": "python"
    }
  },
  "nbformat": 4,
  "nbformat_minor": 0
}
