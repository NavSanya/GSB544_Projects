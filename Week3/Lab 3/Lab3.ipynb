{
 "cells": [
  {
   "cell_type": "raw",
   "id": "e541d79d",
   "metadata": {
    "vscode": {
     "languageId": "raw"
    }
   },
   "source": [
    "---\n",
    "title: Lab 3\n",
    "author: Nav Sanya Anand\n",
    "format:\n",
    "        html:\n",
    "                toc: true\n",
    "                code-fold: true\n",
    "                embed-resources: true\n",
    "echo: true\n",
    "theme: sketchy\n",
    " \n",
    "---"
   ]
  },
  {
   "cell_type": "code",
   "execution_count": null,
   "id": "be6047b2",
   "metadata": {},
   "outputs": [],
   "source": [
    "import pandas as pd\n",
    "import numpy as np\n",
    "from sys import exit\n",
    "import plotnine as p9\n"
   ]
  },
  {
   "cell_type": "code",
   "execution_count": 2,
   "id": "b2ddf972",
   "metadata": {},
   "outputs": [
    {
     "name": "stdout",
     "output_type": "stream",
     "text": [
      "Index(['Day', 'Day.in.Words', 'Gift.Item', 'Verb', 'Adjective', 'Location'], dtype='object')\n"
     ]
    }
   ],
   "source": [
    "xmas = pd.read_csv(\"https://www.dropbox.com/scl/fi/qxaslqqp5p08i1650rpc4/xmas.csv?rlkey=erdxi7jbh7pqf9fh4lv4cayp5&dl=1\")\n",
    "\n",
    "print(xmas.columns)"
   ]
  },
  {
   "cell_type": "code",
   "execution_count": 3,
   "id": "3ec0090b",
   "metadata": {},
   "outputs": [
    {
     "name": "stdout",
     "output_type": "stream",
     "text": [
      "    Day Day.in.Words  Gift.Item        Verb Adjective        Location\n",
      "0     1        first  partridge         NaN       NaN  in a pear tree\n",
      "1     2       second       dove         NaN    turtle             NaN\n",
      "2     3        third        hen         NaN    french             NaN\n",
      "3     4       fourth       bird         NaN   calling             NaN\n",
      "4     5        fifth       ring         NaN    golden             NaN\n",
      "5     6        sixth      goose    a-laying       NaN             NaN\n",
      "6     7      seventh       swan  a-swimming       NaN             NaN\n",
      "7     8       eighth       maid   a-milking       NaN             NaN\n",
      "8     9        ninth       lady     dancing       NaN             NaN\n",
      "9    10        tenth       lord   a-leaping       NaN             NaN\n",
      "10   11     eleventh      piper      piping       NaN             NaN\n",
      "11   12      twelfth    drummer    drumming       NaN             NaN\n"
     ]
    }
   ],
   "source": [
    "print(xmas)"
   ]
  },
  {
   "cell_type": "markdown",
   "id": "da33fe64",
   "metadata": {},
   "source": [
    "# Function 1: pluralize_gift()"
   ]
  },
  {
   "cell_type": "code",
   "execution_count": 4,
   "id": "fe63509e",
   "metadata": {},
   "outputs": [
    {
     "name": "stdout",
     "output_type": "stream",
     "text": [
      "0     partridge\n",
      "1          dove\n",
      "2           hen\n",
      "3          bird\n",
      "4          ring\n",
      "5         goose\n",
      "6          swan\n",
      "7          maid\n",
      "8          lady\n",
      "9          lord\n",
      "10        piper\n",
      "11      drummer\n",
      "Name: Gift.Item, dtype: object\n"
     ]
    }
   ],
   "source": [
    "print(xmas['Gift.Item'])"
   ]
  },
  {
   "cell_type": "code",
   "execution_count": 5,
   "id": "0e945fa5",
   "metadata": {},
   "outputs": [],
   "source": [
    "#| code-fold: false\n",
    "\n",
    "def pluralize_gift(gift = None):\n",
    "        \"\"\"\n",
    "        Returns plural of a noun\n",
    "\n",
    "        Parameters\n",
    "        ----------\n",
    "        gift: str\n",
    "        A noun\n",
    "        \n",
    "        Return\n",
    "        ------\n",
    "        str\n",
    "        Plural version\n",
    "        \"\"\"\n",
    "        if gift is None:\n",
    "                exit(\"Add a value to the function.\")\n",
    "        if not gift:\n",
    "                exit(\"Don't leave string empty\")\n",
    "        if not isinstance(gift, str):\n",
    "                exit(\"Input to pluralize_gift must be a string.\")\n",
    "\n",
    "        if 'oo' in gift:\n",
    "                gift = gift.replace(\"oo\", \"ee\")\n",
    "        elif gift[-1] == 'y':\n",
    "                gift = gift.replace(\"y\", \"ies\")\n",
    "        else:\n",
    "                gift = gift + \"s\"\n",
    "\n",
    "        return gift"
   ]
  },
  {
   "cell_type": "code",
   "execution_count": 6,
   "id": "5364f9f7",
   "metadata": {},
   "outputs": [
    {
     "name": "stdout",
     "output_type": "stream",
     "text": [
      "geese\n",
      "babies\n",
      "dogs\n"
     ]
    },
    {
     "ename": "SystemExit",
     "evalue": "Don't leave string empty",
     "output_type": "error",
     "traceback": [
      "An exception has occurred, use %tb to see the full traceback.\n",
      "\n",
      "\u001b[1;31mSystemExit\u001b[0m\u001b[1;31m:\u001b[0m Don't leave string empty\n"
     ]
    }
   ],
   "source": [
    "# Testing\n",
    "# Should work\n",
    "print(pluralize_gift(\"goose\"))\n",
    "print(pluralize_gift(\"baby\"))\n",
    "print(pluralize_gift(\"dog\"))\n",
    "print(pluralize_gift(\"\"))\n",
    "print(pluralize_gift())\n",
    "\n"
   ]
  },
  {
   "cell_type": "code",
   "execution_count": 7,
   "id": "2d09e781",
   "metadata": {},
   "outputs": [
    {
     "name": "stdout",
     "output_type": "stream",
     "text": [
      "partridges\n",
      "doves\n",
      "hens\n",
      "birds\n",
      "rings\n",
      "geese\n",
      "swans\n",
      "maids\n",
      "ladies\n",
      "lords\n",
      "pipers\n",
      "drummers\n"
     ]
    }
   ],
   "source": [
    "# Function not vectorized\n",
    "# pluralize_gift(xmas['Gift.Item'])\n",
    "for x in xmas['Gift.Item']:\n",
    "        print(pluralize_gift(x))\n"
   ]
  },
  {
   "cell_type": "markdown",
   "id": "91c746ac",
   "metadata": {},
   "source": [
    "# Function 2: make_phrase()"
   ]
  },
  {
   "cell_type": "code",
   "execution_count": 8,
   "id": "bf50dccd",
   "metadata": {},
   "outputs": [
    {
     "data": {
      "text/plain": [
       "Day              int64\n",
       "Day.in.Words    object\n",
       "Gift.Item       object\n",
       "Verb            object\n",
       "Adjective       object\n",
       "Location        object\n",
       "dtype: object"
      ]
     },
     "execution_count": null,
     "metadata": {},
     "output_type": "execute_result"
    }
   ],
   "source": [
    "xmas.dtypes"
   ]
  },
  {
   "cell_type": "code",
   "execution_count": 9,
   "id": "2bd368fc",
   "metadata": {},
   "outputs": [],
   "source": [
    "#| code-fold: false\n",
    "\n",
    "# Create a cardinal word column from Day (int) → \"one\", \"two\", ..., \"twelve\"\n",
    "num_to_word = {\n",
    "        1:\"one\", 2:\"two\", 3:\"three\", 4:\"four\", 5:\"five\", 6:\"six\",\n",
    "        7:\"seven\", 8:\"eight\", 9:\"nine\", 10:\"ten\", 11:\"eleven\", 12:\"twelve\"\n",
    "}\n",
    "xmas[\"Num.Word\"] = xmas[\"Day\"].map(num_to_word)  # use this instead of Day.in.Words"
   ]
  },
  {
   "cell_type": "code",
   "execution_count": 10,
   "id": "e96bb110",
   "metadata": {},
   "outputs": [],
   "source": [
    "#| code-fold: false\n",
    "\n",
    "def make_phrase(num, num_word, item, verb, adjective, location):\n",
    "        \"\"\"\n",
    "        Build the gift phrase for each row of the 12 Days of Christmas table.\n",
    "\n",
    "        Parameters\n",
    "        ----------\n",
    "        num : pandas.Series (int)\n",
    "                Numeric day values (1..12).\n",
    "        num_word : pandas.Series (str)\n",
    "                Cardinal number words corresponding to `num` (\"one\"..\"twelve\").\n",
    "        item : pandas.Series (str)\n",
    "                Gift item names (singular). Will be pluralized automatically when day > 1.\n",
    "        verb : pandas.Series (str)\n",
    "                Optional action words/phrases for the gift (NAs allowed).\n",
    "        adjective : pandas.Series (str)\n",
    "                Optional descriptors for the gift (NAs allowed).\n",
    "        location : pandas.Series (str)\n",
    "                Optional location/prepositional phrase (NAs allowed).\n",
    "\n",
    "        Returns\n",
    "        -------\n",
    "        pandas.Series (str)\n",
    "                A vector of cleaned phrases like \"two turtle doves\" or \"a partridge in a pear tree\".\n",
    "        \"\"\"\n",
    "        \n",
    "\n",
    "        # Step 1: Replace NAs with blank strings (and ensure string dtype)\n",
    "        verb = verb.fillna(\"\").astype(str)\n",
    "        adjective = adjective.fillna(\"\").astype(str)\n",
    "        location = location.fillna(\"\").astype(str)\n",
    "        item = item.fillna(\"\").astype(str)\n",
    "        num_word = num_word.fillna(\"\").astype(str)\n",
    "\n",
    "        # Step 2: Pluralize gift if day > 1 (vectorized, no chained indexing)\n",
    "        item_plural = item.copy()\n",
    "        day = num.astype(\"Int64\")\n",
    "        mask_plural = day > 1\n",
    "        item_plural.loc[mask_plural] = item.loc[mask_plural].apply(pluralize_gift)\n",
    "\n",
    "        # Step 3: Does the (singular) gift start with a vowel? (Day 1 needs this)\n",
    "        # Using item_plural is fine—on day 1 it's identical to item.\n",
    "        starts_with_vowel = item_plural.str.strip().str[0].str.lower().isin(list(\"aeiou\"))\n",
    "\n",
    "        # Step 4: Choose determiner: \"a\"/\"an\" for day 1; otherwise use num_word\n",
    "        determiner = num_word.copy()\n",
    "        day1 = day == 1\n",
    "        determiner.loc[day1 & starts_with_vowel] = \"an\"\n",
    "        determiner.loc[day1 & ~starts_with_vowel] = \"a\"\n",
    "\n",
    "        # Step 5: Concatenate pieces and tidy spaces\n",
    "        phrase = (\n",
    "                determiner + \" \" +\n",
    "                adjective + \" \" +\n",
    "                item_plural + \" \" +\n",
    "                verb + \" \" +\n",
    "                location\n",
    "        ).str.replace(r\"\\s+\", \" \", regex=True).str.strip()\n",
    "\n",
    "        return phrase"
   ]
  },
  {
   "cell_type": "code",
   "execution_count": 11,
   "id": "d7ffdfb4",
   "metadata": {},
   "outputs": [
    {
     "name": "stdout",
     "output_type": "stream",
     "text": [
      "0    a partridge in a pear tree\n",
      "1              two turtle doves\n",
      "dtype: object\n"
     ]
    }
   ],
   "source": [
    "test_df = pd.DataFrame({\n",
    "        \"Day\": [1, 2],\n",
    "        \"Num.Word\": [\"one\", \"two\"],\n",
    "        \"Gift.Item\": [\"partridge\", \"turtle dove\"],\n",
    "        \"Verb\": [\"\", \"\"],\n",
    "        \"Adjective\": [\"\", \"\"],\n",
    "        \"Location\": [\"in a pear tree\", \"\"]\n",
    "})\n",
    "phrases = make_phrase(test_df[\"Day\"], test_df[\"Num.Word\"], test_df[\"Gift.Item\"],\n",
    "                      test_df[\"Verb\"], test_df[\"Adjective\"], test_df[\"Location\"])\n",
    "print(phrases)\n"
   ]
  },
  {
   "cell_type": "code",
   "execution_count": 12,
   "id": "beefb821",
   "metadata": {},
   "outputs": [
    {
     "name": "stdout",
     "output_type": "stream",
     "text": [
      "0     a partridge in a pear tree\n",
      "1               two turtle doves\n",
      "2              three french hens\n",
      "3             four calling birds\n",
      "4              five golden rings\n",
      "5             six geese a-laying\n",
      "6         seven swans a-swimming\n",
      "7          eight maids a-milking\n",
      "8            nine ladies dancing\n",
      "9            ten lords a-leaping\n",
      "10          eleven pipers piping\n",
      "11      twelve drummers drumming\n",
      "Name: Full.Phrase, dtype: object\n"
     ]
    }
   ],
   "source": [
    "#| code-fold: false\n",
    "\n",
    "xmas[\"Full.Phrase\"] = make_phrase(\n",
    "        xmas[\"Day\"],\n",
    "        xmas[\"Num.Word\"],\n",
    "        xmas[\"Gift.Item\"],\n",
    "        xmas[\"Verb\"],\n",
    "        xmas[\"Adjective\"],\n",
    "        xmas[\"Location\"]\n",
    ")\n",
    "\n",
    "print(xmas[\"Full.Phrase\"])"
   ]
  },
  {
   "cell_type": "markdown",
   "id": "ba50689d",
   "metadata": {},
   "source": [
    "# Function 3: sing_day()"
   ]
  },
  {
   "cell_type": "code",
   "execution_count": null,
   "id": "c7234761",
   "metadata": {},
   "outputs": [],
   "source": [
    "#| code-fold: false\n",
    "\n",
    "def sing_day(dataset, num, phrase_col):\n",
    "        \"\"\"\n",
    "        Construct the verse for a specific day of Christmas.\n",
    "\n",
    "        Parameters\n",
    "        ----------\n",
    "        dataset : pandas.DataFrame\n",
    "                Table containing at least a \"Day\" column and `phrase_col` with gift phrases.\n",
    "        num : int\n",
    "                Day number to sing (1..12).\n",
    "        phrase_col : str\n",
    "                Name of the column in `dataset` that holds the phrase text (e.g., \"Full.Phrase\").\n",
    "\n",
    "        Returns\n",
    "        -------\n",
    "        str\n",
    "                A multi-line string containing the verse for the requested day,\n",
    "                including the intro line and properly punctuated gift lines.\n",
    "        \n",
    "        \"\"\"\n",
    "        ordinals = {\n",
    "                1: \"first\", 2: \"second\", 3: \"third\", 4: \"fourth\", 5: \"fifth\", 6: \"sixth\",\n",
    "                7: \"seventh\", 8: \"eighth\", 9: \"ninth\", 10: \"tenth\", 11: \"eleventh\", 12: \"twelfth\"\n",
    "        }\n",
    "\n",
    "        if phrase_col not in dataset.columns:\n",
    "                exit(f\"Column '{phrase_col}' not found in dataset.\")\n",
    "\n",
    "        # Step 1: Intro line\n",
    "        num_word = ordinals.get(num, str(num))\n",
    "        intro = f\"On the {num_word} day of Christmas, my true love gave to me:\"\n",
    "\n",
    "        # Step 2: Gift lines (reverse order)\n",
    "        gifts = \"\"\n",
    "        for i in range(num, 0, -1):\n",
    "                gift_line = dataset.loc[dataset[\"Day\"] == i, phrase_col].values[0]\n",
    "\n",
    "                if i == 1 and num != 1:\n",
    "                # last line, after other gifts\n",
    "                        gifts += \"and \" + gift_line + \".\"\n",
    "                elif i == 1:\n",
    "                # only gift (day 1)\n",
    "                        gifts += gift_line + \".\"\n",
    "                else:\n",
    "                # any middle or top line\n",
    "                        gifts += gift_line + \",\\n\"\n",
    "\n",
    "        # Step 3: Combine\n",
    "        song = intro + \"\\n\" + gifts\n",
    "        return song\n"
   ]
  },
  {
   "cell_type": "code",
   "execution_count": 14,
   "id": "470b2257",
   "metadata": {},
   "outputs": [
    {
     "name": "stdout",
     "output_type": "stream",
     "text": [
      "On the second day of Christmas, my true love gave to me:\n",
      "two turtle doves,\n",
      "and a partridge in a pear tree.\n"
     ]
    }
   ],
   "source": [
    "print(sing_day(xmas, 2, \"Full.Phrase\"))"
   ]
  },
  {
   "cell_type": "code",
   "execution_count": 15,
   "id": "ac03f5d3",
   "metadata": {},
   "outputs": [
    {
     "name": "stdout",
     "output_type": "stream",
     "text": [
      "On the third day of Christmas, my true love gave to me:\n",
      "three french hens,\n",
      "two turtle doves,\n",
      "and a partridge in a pear tree.\n"
     ]
    }
   ],
   "source": [
    "print(sing_day(xmas, 3, \"Full.Phrase\"))\n"
   ]
  },
  {
   "cell_type": "markdown",
   "id": "7bfea277",
   "metadata": {},
   "source": [
    "# Use Your Functions!"
   ]
  },
  {
   "cell_type": "code",
   "execution_count": 16,
   "id": "55f8754a",
   "metadata": {},
   "outputs": [],
   "source": [
    "xmas2 = pd.read_csv(\"https://www.dropbox.com/scl/fi/p9x9k8xwuzs9rhp582vfy/xmas_2.csv?rlkey=kvc3j3lmyn4opcidsrhcmrof1&dl=1\")"
   ]
  },
  {
   "cell_type": "code",
   "execution_count": 17,
   "id": "087020d5",
   "metadata": {},
   "outputs": [
    {
     "name": "stdout",
     "output_type": "stream",
     "text": [
      "Index(['Day', 'Day.in.Words', 'Gift.Item', 'Verb', 'Adjective', 'Location'], dtype='object')\n"
     ]
    }
   ],
   "source": [
    "print(xmas2.columns)"
   ]
  },
  {
   "cell_type": "code",
   "execution_count": 18,
   "id": "18f5b637",
   "metadata": {},
   "outputs": [
    {
     "name": "stdout",
     "output_type": "stream",
     "text": [
      "    Day Day.in.Words Gift.Item         Verb Adjective       Location\n",
      "0     1        first     email          NaN       NaN  from Cal Poly\n",
      "1     2       second     point          NaN      meal            NaN\n",
      "2     3        third       pen          NaN      lost            NaN\n",
      "3     4       fourth    review          NaN    course            NaN\n",
      "4     5        fifth      exam          NaN  practice            NaN\n",
      "5     6        sixth    grader      grading       NaN            NaN\n",
      "6     7      seventh    senior    stressing       NaN            NaN\n",
      "7     8       eighth       mom    a-calling       NaN            NaN\n",
      "8     9        ninth     party      bumping       NaN            NaN\n",
      "9    10        tenth      load   of laundry       NaN            NaN\n",
      "10   11     eleventh    friend  goodbye-ing       NaN            NaN\n",
      "11   12      twelfth      hour     sleeping       NaN            NaN\n"
     ]
    }
   ],
   "source": [
    "print(xmas2)"
   ]
  },
  {
   "cell_type": "code",
   "execution_count": 19,
   "id": "86679a8a",
   "metadata": {},
   "outputs": [],
   "source": [
    "#| code-fold: false\n",
    "\n",
    "# Map number words\n",
    "num_to_word = {\n",
    "        1:\"one\", 2:\"two\", 3:\"three\", 4:\"four\", 5:\"five\", 6:\"six\",\n",
    "        7:\"seven\", 8:\"eight\", 9:\"nine\", 10:\"ten\", 11:\"eleven\", 12:\"twelve\"\n",
    "}\n",
    "xmas2[\"Num.Word\"] = xmas2[\"Day\"].map(num_to_word)\n",
    "\n",
    "# Make the full phrase for each row\n",
    "xmas2[\"Full.Phrase\"] = make_phrase(\n",
    "        xmas2[\"Day\"], xmas2[\"Num.Word\"],\n",
    "        xmas2[\"Gift.Item\"], xmas2[\"Verb\"],\n",
    "        xmas2[\"Adjective\"], xmas2[\"Location\"]\n",
    ")\n"
   ]
  },
  {
   "cell_type": "code",
   "execution_count": 20,
   "id": "8d0d7d02",
   "metadata": {},
   "outputs": [
    {
     "name": "stdout",
     "output_type": "stream",
     "text": [
      "0         an email from Cal Poly\n",
      "1                two meal points\n",
      "2                three lost pens\n",
      "3            four course reviews\n",
      "4            five practice exams\n",
      "5            six graders grading\n",
      "6        seven seniors stressing\n",
      "7           eight moms a-calling\n",
      "8           nine parties bumping\n",
      "9           ten loads of laundry\n",
      "10    eleven friends goodbye-ing\n",
      "11         twelve hours sleeping\n",
      "Name: Full.Phrase, dtype: object\n"
     ]
    }
   ],
   "source": [
    "print(xmas2[\"Full.Phrase\"] )"
   ]
  },
  {
   "cell_type": "code",
   "execution_count": 21,
   "id": "b3b4efec",
   "metadata": {},
   "outputs": [],
   "source": [
    "#| code-fold: false\n",
    "\n",
    "def sing_full_song(dataset, phrase_col):\n",
    "        \"\"\"\n",
    "        Sing (print) all verses for the 12 Days of Christmas.\n",
    "\n",
    "                Parameters\n",
    "                ----------\n",
    "                dataset : pandas.DataFrame\n",
    "                Table containing \"Day\" (1..12) and a column with gift phrases.\n",
    "                phrase_col : str\n",
    "                Name of the column in `dataset` that holds the phrase text\n",
    "                (e.g., \"Full.Phrase\" created by `make_phrase`).\n",
    "\n",
    "                Returns\n",
    "                -------\n",
    "                None\n",
    "                Prints the 12 verses separated by blank lines.\n",
    "        \"\"\"\n",
    "        verses = dataset[\"Day\"].map(lambda d: sing_day(dataset, d, phrase_col))\n",
    "        print(\"\\n\\n\".join(verses))\n"
   ]
  },
  {
   "cell_type": "code",
   "execution_count": 22,
   "id": "624c217e",
   "metadata": {},
   "outputs": [
    {
     "name": "stdout",
     "output_type": "stream",
     "text": [
      "The 12 Days of Christmas\n",
      "\n",
      "On the first day of Christmas, my true love gave to me:\n",
      "a partridge in a pear tree.\n",
      "\n",
      "On the second day of Christmas, my true love gave to me:\n",
      "two turtle doves,\n",
      "and a partridge in a pear tree.\n",
      "\n",
      "On the third day of Christmas, my true love gave to me:\n",
      "three french hens,\n",
      "two turtle doves,\n",
      "and a partridge in a pear tree.\n",
      "\n",
      "On the fourth day of Christmas, my true love gave to me:\n",
      "four calling birds,\n",
      "three french hens,\n",
      "two turtle doves,\n",
      "and a partridge in a pear tree.\n",
      "\n",
      "On the fifth day of Christmas, my true love gave to me:\n",
      "five golden rings,\n",
      "four calling birds,\n",
      "three french hens,\n",
      "two turtle doves,\n",
      "and a partridge in a pear tree.\n",
      "\n",
      "On the sixth day of Christmas, my true love gave to me:\n",
      "six geese a-laying,\n",
      "five golden rings,\n",
      "four calling birds,\n",
      "three french hens,\n",
      "two turtle doves,\n",
      "and a partridge in a pear tree.\n",
      "\n",
      "On the seventh day of Christmas, my true love gave to me:\n",
      "seven swans a-swimming,\n",
      "six geese a-laying,\n",
      "five golden rings,\n",
      "four calling birds,\n",
      "three french hens,\n",
      "two turtle doves,\n",
      "and a partridge in a pear tree.\n",
      "\n",
      "On the eighth day of Christmas, my true love gave to me:\n",
      "eight maids a-milking,\n",
      "seven swans a-swimming,\n",
      "six geese a-laying,\n",
      "five golden rings,\n",
      "four calling birds,\n",
      "three french hens,\n",
      "two turtle doves,\n",
      "and a partridge in a pear tree.\n",
      "\n",
      "On the ninth day of Christmas, my true love gave to me:\n",
      "nine ladies dancing,\n",
      "eight maids a-milking,\n",
      "seven swans a-swimming,\n",
      "six geese a-laying,\n",
      "five golden rings,\n",
      "four calling birds,\n",
      "three french hens,\n",
      "two turtle doves,\n",
      "and a partridge in a pear tree.\n",
      "\n",
      "On the tenth day of Christmas, my true love gave to me:\n",
      "ten lords a-leaping,\n",
      "nine ladies dancing,\n",
      "eight maids a-milking,\n",
      "seven swans a-swimming,\n",
      "six geese a-laying,\n",
      "five golden rings,\n",
      "four calling birds,\n",
      "three french hens,\n",
      "two turtle doves,\n",
      "and a partridge in a pear tree.\n",
      "\n",
      "On the eleventh day of Christmas, my true love gave to me:\n",
      "eleven pipers piping,\n",
      "ten lords a-leaping,\n",
      "nine ladies dancing,\n",
      "eight maids a-milking,\n",
      "seven swans a-swimming,\n",
      "six geese a-laying,\n",
      "five golden rings,\n",
      "four calling birds,\n",
      "three french hens,\n",
      "two turtle doves,\n",
      "and a partridge in a pear tree.\n",
      "\n",
      "On the twelfth day of Christmas, my true love gave to me:\n",
      "twelve drummers drumming,\n",
      "eleven pipers piping,\n",
      "ten lords a-leaping,\n",
      "nine ladies dancing,\n",
      "eight maids a-milking,\n",
      "seven swans a-swimming,\n",
      "six geese a-laying,\n",
      "five golden rings,\n",
      "four calling birds,\n",
      "three french hens,\n",
      "two turtle doves,\n",
      "and a partridge in a pear tree.\n"
     ]
    }
   ],
   "source": [
    "# Original Christmas song\n",
    "print(\"The 12 Days of Christmas\\n\")\n",
    "sing_full_song(xmas, \"Full.Phrase\")\n"
   ]
  },
  {
   "cell_type": "code",
   "execution_count": 23,
   "id": "7a682f69",
   "metadata": {},
   "outputs": [
    {
     "name": "stdout",
     "output_type": "stream",
     "text": [
      "The Surprise Song\n",
      "\n",
      "On the first day of Christmas, my true love gave to me:\n",
      "an email from Cal Poly.\n",
      "\n",
      "On the second day of Christmas, my true love gave to me:\n",
      "two meal points,\n",
      "and an email from Cal Poly.\n",
      "\n",
      "On the third day of Christmas, my true love gave to me:\n",
      "three lost pens,\n",
      "two meal points,\n",
      "and an email from Cal Poly.\n",
      "\n",
      "On the fourth day of Christmas, my true love gave to me:\n",
      "four course reviews,\n",
      "three lost pens,\n",
      "two meal points,\n",
      "and an email from Cal Poly.\n",
      "\n",
      "On the fifth day of Christmas, my true love gave to me:\n",
      "five practice exams,\n",
      "four course reviews,\n",
      "three lost pens,\n",
      "two meal points,\n",
      "and an email from Cal Poly.\n",
      "\n",
      "On the sixth day of Christmas, my true love gave to me:\n",
      "six graders grading,\n",
      "five practice exams,\n",
      "four course reviews,\n",
      "three lost pens,\n",
      "two meal points,\n",
      "and an email from Cal Poly.\n",
      "\n",
      "On the seventh day of Christmas, my true love gave to me:\n",
      "seven seniors stressing,\n",
      "six graders grading,\n",
      "five practice exams,\n",
      "four course reviews,\n",
      "three lost pens,\n",
      "two meal points,\n",
      "and an email from Cal Poly.\n",
      "\n",
      "On the eighth day of Christmas, my true love gave to me:\n",
      "eight moms a-calling,\n",
      "seven seniors stressing,\n",
      "six graders grading,\n",
      "five practice exams,\n",
      "four course reviews,\n",
      "three lost pens,\n",
      "two meal points,\n",
      "and an email from Cal Poly.\n",
      "\n",
      "On the ninth day of Christmas, my true love gave to me:\n",
      "nine parties bumping,\n",
      "eight moms a-calling,\n",
      "seven seniors stressing,\n",
      "six graders grading,\n",
      "five practice exams,\n",
      "four course reviews,\n",
      "three lost pens,\n",
      "two meal points,\n",
      "and an email from Cal Poly.\n",
      "\n",
      "On the tenth day of Christmas, my true love gave to me:\n",
      "ten loads of laundry,\n",
      "nine parties bumping,\n",
      "eight moms a-calling,\n",
      "seven seniors stressing,\n",
      "six graders grading,\n",
      "five practice exams,\n",
      "four course reviews,\n",
      "three lost pens,\n",
      "two meal points,\n",
      "and an email from Cal Poly.\n",
      "\n",
      "On the eleventh day of Christmas, my true love gave to me:\n",
      "eleven friends goodbye-ing,\n",
      "ten loads of laundry,\n",
      "nine parties bumping,\n",
      "eight moms a-calling,\n",
      "seven seniors stressing,\n",
      "six graders grading,\n",
      "five practice exams,\n",
      "four course reviews,\n",
      "three lost pens,\n",
      "two meal points,\n",
      "and an email from Cal Poly.\n",
      "\n",
      "On the twelfth day of Christmas, my true love gave to me:\n",
      "twelve hours sleeping,\n",
      "eleven friends goodbye-ing,\n",
      "ten loads of laundry,\n",
      "nine parties bumping,\n",
      "eight moms a-calling,\n",
      "seven seniors stressing,\n",
      "six graders grading,\n",
      "five practice exams,\n",
      "four course reviews,\n",
      "three lost pens,\n",
      "two meal points,\n",
      "and an email from Cal Poly.\n"
     ]
    }
   ],
   "source": [
    "print(\"The Surprise Song\\n\")\n",
    "sing_full_song(xmas2, \"Full.Phrase\")"
   ]
  }
 ],
 "metadata": {
  "language_info": {
   "name": "python"
  }
 },
 "nbformat": 4,
 "nbformat_minor": 5
}
