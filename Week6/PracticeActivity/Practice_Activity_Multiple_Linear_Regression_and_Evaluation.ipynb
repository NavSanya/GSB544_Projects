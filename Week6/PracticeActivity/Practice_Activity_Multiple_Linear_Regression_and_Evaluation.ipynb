{
  "cells": [
    {
      "cell_type": "raw",
      "metadata": {
        "vscode": {
          "languageId": "raw"
        }
      },
      "source": [
        "---\n",
        "title: Practice_Activity_Multiple_Linear_Regression_and_Evaluation\n",
        "author: Nav Sanya Anand\n",
        "\n",
        "format:\n",
        "        html:\n",
        "                format:\n",
        "        html:\n",
        "                toc: true\n",
        "                code-fold: true\n",
        "                embed-resources: true\n",
        "theme: sketchy\n",
        "---"
      ]
    },
    {
      "cell_type": "code",
      "execution_count": 19,
      "metadata": {},
      "outputs": [],
      "source": [
        "import pandas as pd\n",
        "import numpy as np\n",
        "\n",
        "from sklearn.linear_model import LinearRegression\n",
        "from sklearn.model_selection import train_test_split\n",
        "from sklearn.metrics import mean_squared_error, r2_score\n",
        "from palmerpenguins import load_penguins\n",
        "from sklearn.preprocessing import PolynomialFeatures"
      ]
    },
    {
      "cell_type": "markdown",
      "metadata": {
        "id": "FdLoheP-mrxn"
      },
      "source": [
        "# Palmer Penguins Modeling\n",
        "\n",
        "Import the Palmer Penguins dataset and print out the first few rows.\n",
        "\n",
        "Suppose we want to predict `bill_depth_mm` using the other variables in the dataset.\n",
        "\n",
        "**Dummify** all variables that require this."
      ]
    },
    {
      "cell_type": "code",
      "execution_count": 20,
      "metadata": {
        "id": "N5lG475yllju"
      },
      "outputs": [
        {
          "name": "stdout",
          "output_type": "stream",
          "text": [
            "  species     island  bill_length_mm  bill_depth_mm  flipper_length_mm  \\\n",
            "0  Adelie  Torgersen            39.1           18.7              181.0   \n",
            "1  Adelie  Torgersen            39.5           17.4              186.0   \n",
            "2  Adelie  Torgersen            40.3           18.0              195.0   \n",
            "3  Adelie  Torgersen             NaN            NaN                NaN   \n",
            "4  Adelie  Torgersen            36.7           19.3              193.0   \n",
            "\n",
            "   body_mass_g     sex  year  \n",
            "0       3750.0    male  2007  \n",
            "1       3800.0  female  2007  \n",
            "2       3250.0  female  2007  \n",
            "3          NaN     NaN  2007  \n",
            "4       3450.0  female  2007  \n"
          ]
        }
      ],
      "source": [
        "# Code Here\n",
        "penguins = load_penguins()\n",
        "print(penguins.head())"
      ]
    },
    {
      "cell_type": "code",
      "execution_count": 21,
      "metadata": {},
      "outputs": [
        {
          "name": "stdout",
          "output_type": "stream",
          "text": [
            "['species', 'island', 'sex']\n"
          ]
        }
      ],
      "source": [
        "categorical_cols = penguins.select_dtypes(include=[\"object\", \"category\"]).columns.tolist()\n",
        "print(categorical_cols)\n"
      ]
    },
    {
      "cell_type": "code",
      "execution_count": 22,
      "metadata": {},
      "outputs": [
        {
          "name": "stdout",
          "output_type": "stream",
          "text": [
            "['bill_length_mm', 'bill_depth_mm', 'flipper_length_mm', 'body_mass_g', 'year']\n"
          ]
        }
      ],
      "source": [
        "numeric_cols = penguins.select_dtypes(include=[\"number\"]).columns.tolist()\n",
        "print(numeric_cols)"
      ]
    },
    {
      "cell_type": "code",
      "execution_count": 23,
      "metadata": {},
      "outputs": [
        {
          "data": {
            "text/html": [
              "<div>\n",
              "<style scoped>\n",
              "    .dataframe tbody tr th:only-of-type {\n",
              "        vertical-align: middle;\n",
              "    }\n",
              "\n",
              "    .dataframe tbody tr th {\n",
              "        vertical-align: top;\n",
              "    }\n",
              "\n",
              "    .dataframe thead th {\n",
              "        text-align: right;\n",
              "    }\n",
              "</style>\n",
              "<table border=\"1\" class=\"dataframe\">\n",
              "  <thead>\n",
              "    <tr style=\"text-align: right;\">\n",
              "      <th></th>\n",
              "      <th>bill_length_mm</th>\n",
              "      <th>bill_depth_mm</th>\n",
              "      <th>flipper_length_mm</th>\n",
              "      <th>body_mass_g</th>\n",
              "      <th>year</th>\n",
              "      <th>species_Adelie</th>\n",
              "      <th>species_Chinstrap</th>\n",
              "      <th>species_Gentoo</th>\n",
              "      <th>island_Biscoe</th>\n",
              "      <th>island_Dream</th>\n",
              "      <th>island_Torgersen</th>\n",
              "      <th>sex_female</th>\n",
              "      <th>sex_male</th>\n",
              "    </tr>\n",
              "  </thead>\n",
              "  <tbody>\n",
              "    <tr>\n",
              "      <th>0</th>\n",
              "      <td>39.1</td>\n",
              "      <td>18.7</td>\n",
              "      <td>181.0</td>\n",
              "      <td>3750.0</td>\n",
              "      <td>2007</td>\n",
              "      <td>True</td>\n",
              "      <td>False</td>\n",
              "      <td>False</td>\n",
              "      <td>False</td>\n",
              "      <td>False</td>\n",
              "      <td>True</td>\n",
              "      <td>False</td>\n",
              "      <td>True</td>\n",
              "    </tr>\n",
              "    <tr>\n",
              "      <th>1</th>\n",
              "      <td>39.5</td>\n",
              "      <td>17.4</td>\n",
              "      <td>186.0</td>\n",
              "      <td>3800.0</td>\n",
              "      <td>2007</td>\n",
              "      <td>True</td>\n",
              "      <td>False</td>\n",
              "      <td>False</td>\n",
              "      <td>False</td>\n",
              "      <td>False</td>\n",
              "      <td>True</td>\n",
              "      <td>True</td>\n",
              "      <td>False</td>\n",
              "    </tr>\n",
              "    <tr>\n",
              "      <th>2</th>\n",
              "      <td>40.3</td>\n",
              "      <td>18.0</td>\n",
              "      <td>195.0</td>\n",
              "      <td>3250.0</td>\n",
              "      <td>2007</td>\n",
              "      <td>True</td>\n",
              "      <td>False</td>\n",
              "      <td>False</td>\n",
              "      <td>False</td>\n",
              "      <td>False</td>\n",
              "      <td>True</td>\n",
              "      <td>True</td>\n",
              "      <td>False</td>\n",
              "    </tr>\n",
              "    <tr>\n",
              "      <th>3</th>\n",
              "      <td>NaN</td>\n",
              "      <td>NaN</td>\n",
              "      <td>NaN</td>\n",
              "      <td>NaN</td>\n",
              "      <td>2007</td>\n",
              "      <td>True</td>\n",
              "      <td>False</td>\n",
              "      <td>False</td>\n",
              "      <td>False</td>\n",
              "      <td>False</td>\n",
              "      <td>True</td>\n",
              "      <td>False</td>\n",
              "      <td>False</td>\n",
              "    </tr>\n",
              "    <tr>\n",
              "      <th>4</th>\n",
              "      <td>36.7</td>\n",
              "      <td>19.3</td>\n",
              "      <td>193.0</td>\n",
              "      <td>3450.0</td>\n",
              "      <td>2007</td>\n",
              "      <td>True</td>\n",
              "      <td>False</td>\n",
              "      <td>False</td>\n",
              "      <td>False</td>\n",
              "      <td>False</td>\n",
              "      <td>True</td>\n",
              "      <td>True</td>\n",
              "      <td>False</td>\n",
              "    </tr>\n",
              "    <tr>\n",
              "      <th>...</th>\n",
              "      <td>...</td>\n",
              "      <td>...</td>\n",
              "      <td>...</td>\n",
              "      <td>...</td>\n",
              "      <td>...</td>\n",
              "      <td>...</td>\n",
              "      <td>...</td>\n",
              "      <td>...</td>\n",
              "      <td>...</td>\n",
              "      <td>...</td>\n",
              "      <td>...</td>\n",
              "      <td>...</td>\n",
              "      <td>...</td>\n",
              "    </tr>\n",
              "    <tr>\n",
              "      <th>339</th>\n",
              "      <td>55.8</td>\n",
              "      <td>19.8</td>\n",
              "      <td>207.0</td>\n",
              "      <td>4000.0</td>\n",
              "      <td>2009</td>\n",
              "      <td>False</td>\n",
              "      <td>True</td>\n",
              "      <td>False</td>\n",
              "      <td>False</td>\n",
              "      <td>True</td>\n",
              "      <td>False</td>\n",
              "      <td>False</td>\n",
              "      <td>True</td>\n",
              "    </tr>\n",
              "    <tr>\n",
              "      <th>340</th>\n",
              "      <td>43.5</td>\n",
              "      <td>18.1</td>\n",
              "      <td>202.0</td>\n",
              "      <td>3400.0</td>\n",
              "      <td>2009</td>\n",
              "      <td>False</td>\n",
              "      <td>True</td>\n",
              "      <td>False</td>\n",
              "      <td>False</td>\n",
              "      <td>True</td>\n",
              "      <td>False</td>\n",
              "      <td>True</td>\n",
              "      <td>False</td>\n",
              "    </tr>\n",
              "    <tr>\n",
              "      <th>341</th>\n",
              "      <td>49.6</td>\n",
              "      <td>18.2</td>\n",
              "      <td>193.0</td>\n",
              "      <td>3775.0</td>\n",
              "      <td>2009</td>\n",
              "      <td>False</td>\n",
              "      <td>True</td>\n",
              "      <td>False</td>\n",
              "      <td>False</td>\n",
              "      <td>True</td>\n",
              "      <td>False</td>\n",
              "      <td>False</td>\n",
              "      <td>True</td>\n",
              "    </tr>\n",
              "    <tr>\n",
              "      <th>342</th>\n",
              "      <td>50.8</td>\n",
              "      <td>19.0</td>\n",
              "      <td>210.0</td>\n",
              "      <td>4100.0</td>\n",
              "      <td>2009</td>\n",
              "      <td>False</td>\n",
              "      <td>True</td>\n",
              "      <td>False</td>\n",
              "      <td>False</td>\n",
              "      <td>True</td>\n",
              "      <td>False</td>\n",
              "      <td>False</td>\n",
              "      <td>True</td>\n",
              "    </tr>\n",
              "    <tr>\n",
              "      <th>343</th>\n",
              "      <td>50.2</td>\n",
              "      <td>18.7</td>\n",
              "      <td>198.0</td>\n",
              "      <td>3775.0</td>\n",
              "      <td>2009</td>\n",
              "      <td>False</td>\n",
              "      <td>True</td>\n",
              "      <td>False</td>\n",
              "      <td>False</td>\n",
              "      <td>True</td>\n",
              "      <td>False</td>\n",
              "      <td>True</td>\n",
              "      <td>False</td>\n",
              "    </tr>\n",
              "  </tbody>\n",
              "</table>\n",
              "<p>344 rows × 13 columns</p>\n",
              "</div>"
            ],
            "text/plain": [
              "     bill_length_mm  bill_depth_mm  flipper_length_mm  body_mass_g  year  \\\n",
              "0              39.1           18.7              181.0       3750.0  2007   \n",
              "1              39.5           17.4              186.0       3800.0  2007   \n",
              "2              40.3           18.0              195.0       3250.0  2007   \n",
              "3               NaN            NaN                NaN          NaN  2007   \n",
              "4              36.7           19.3              193.0       3450.0  2007   \n",
              "..              ...            ...                ...          ...   ...   \n",
              "339            55.8           19.8              207.0       4000.0  2009   \n",
              "340            43.5           18.1              202.0       3400.0  2009   \n",
              "341            49.6           18.2              193.0       3775.0  2009   \n",
              "342            50.8           19.0              210.0       4100.0  2009   \n",
              "343            50.2           18.7              198.0       3775.0  2009   \n",
              "\n",
              "     species_Adelie  species_Chinstrap  species_Gentoo  island_Biscoe  \\\n",
              "0              True              False           False          False   \n",
              "1              True              False           False          False   \n",
              "2              True              False           False          False   \n",
              "3              True              False           False          False   \n",
              "4              True              False           False          False   \n",
              "..              ...                ...             ...            ...   \n",
              "339           False               True           False          False   \n",
              "340           False               True           False          False   \n",
              "341           False               True           False          False   \n",
              "342           False               True           False          False   \n",
              "343           False               True           False          False   \n",
              "\n",
              "     island_Dream  island_Torgersen  sex_female  sex_male  \n",
              "0           False              True       False      True  \n",
              "1           False              True        True     False  \n",
              "2           False              True        True     False  \n",
              "3           False              True       False     False  \n",
              "4           False              True        True     False  \n",
              "..            ...               ...         ...       ...  \n",
              "339          True             False       False      True  \n",
              "340          True             False        True     False  \n",
              "341          True             False       False      True  \n",
              "342          True             False       False      True  \n",
              "343          True             False        True     False  \n",
              "\n",
              "[344 rows x 13 columns]"
            ]
          },
          "execution_count": null,
          "metadata": {},
          "output_type": "execute_result"
        }
      ],
      "source": [
        "penguins_dummy = pd.get_dummies(penguins)\n",
        "penguins_dummy"
      ]
    },
    {
      "cell_type": "markdown",
      "metadata": {
        "id": "TT1MVgaKm_gX"
      },
      "source": [
        "Let's use the other variables to predict `bill_depth_mm`. Prepare your data and fit the following models on a training dataset subset of the entire dataset:\n",
        "\n",
        "* Four different models, each containing a different set of predictor variables\n",
        "\n",
        "Create a plot like the right plot of Fig 1. in our `Model Validation` chapter with the training and test error plotted for each of your four models.\n",
        "\n",
        "Which of your models was best?"
      ]
    },
    {
      "cell_type": "code",
      "execution_count": 24,
      "metadata": {},
      "outputs": [],
      "source": [
        "penguins_dummy = penguins_dummy.dropna()"
      ]
    },
    {
      "cell_type": "code",
      "execution_count": 25,
      "metadata": {
        "id": "M6f7JWZTm6tn"
      },
      "outputs": [
        {
          "name": "stdout",
          "output_type": "stream",
          "text": [
            "     bill_length_mm  flipper_length_mm  body_mass_g  year  species_Adelie  \\\n",
            "0              39.1              181.0       3750.0  2007            True   \n",
            "1              39.5              186.0       3800.0  2007            True   \n",
            "2              40.3              195.0       3250.0  2007            True   \n",
            "4              36.7              193.0       3450.0  2007            True   \n",
            "5              39.3              190.0       3650.0  2007            True   \n",
            "..              ...                ...          ...   ...             ...   \n",
            "339            55.8              207.0       4000.0  2009           False   \n",
            "340            43.5              202.0       3400.0  2009           False   \n",
            "341            49.6              193.0       3775.0  2009           False   \n",
            "342            50.8              210.0       4100.0  2009           False   \n",
            "343            50.2              198.0       3775.0  2009           False   \n",
            "\n",
            "     species_Chinstrap  species_Gentoo  island_Biscoe  island_Dream  \\\n",
            "0                False           False          False         False   \n",
            "1                False           False          False         False   \n",
            "2                False           False          False         False   \n",
            "4                False           False          False         False   \n",
            "5                False           False          False         False   \n",
            "..                 ...             ...            ...           ...   \n",
            "339               True           False          False          True   \n",
            "340               True           False          False          True   \n",
            "341               True           False          False          True   \n",
            "342               True           False          False          True   \n",
            "343               True           False          False          True   \n",
            "\n",
            "     island_Torgersen  sex_female  sex_male  \n",
            "0                True       False      True  \n",
            "1                True        True     False  \n",
            "2                True        True     False  \n",
            "4                True        True     False  \n",
            "5                True       False      True  \n",
            "..                ...         ...       ...  \n",
            "339             False       False      True  \n",
            "340             False        True     False  \n",
            "341             False       False      True  \n",
            "342             False       False      True  \n",
            "343             False        True     False  \n",
            "\n",
            "[342 rows x 12 columns]\n",
            "0      18.7\n",
            "1      17.4\n",
            "2      18.0\n",
            "4      19.3\n",
            "5      20.6\n",
            "       ... \n",
            "339    19.8\n",
            "340    18.1\n",
            "341    18.2\n",
            "342    19.0\n",
            "343    18.7\n",
            "Name: bill_depth_mm, Length: 342, dtype: float64\n"
          ]
        }
      ],
      "source": [
        "X = penguins_dummy.drop(columns=['bill_depth_mm'])\n",
        "y = penguins_dummy['bill_depth_mm']\n",
        "\n",
        "print(X)\n",
        "print(y)\n",
        "\n"
      ]
    },
    {
      "cell_type": "code",
      "execution_count": 26,
      "metadata": {},
      "outputs": [],
      "source": [
        "# --- Split into train and test ---\n",
        "X_train, X_test, y_train, y_test = train_test_split(X, y, test_size=0.2, random_state=42)\n",
        "\n",
        "# --- Define and fit multiple models ---\n",
        "models = {}\n",
        "train_results = []"
      ]
    },
    {
      "cell_type": "code",
      "execution_count": 27,
      "metadata": {},
      "outputs": [],
      "source": [
        "# Model 1: simple linear regression on all numeric predictors (no polynomial)\n",
        "models[\"Linear_All\"] =LinearRegression().fit(X_train, y_train)"
      ]
    },
    {
      "cell_type": "code",
      "execution_count": 28,
      "metadata": {},
      "outputs": [],
      "source": [
        "# Model 2: linear model using only bill_length_mm and flipper_length_mm\n",
        "cols2 = [c for c in X_train.columns if \"bill_length_mm\" in c or \"flipper_length_mm\" in c]\n",
        "models[\"Linear_Subset\"] = LinearRegression().fit(X_train[cols2], y_train)\n"
      ]
    },
    {
      "cell_type": "code",
      "execution_count": 29,
      "metadata": {},
      "outputs": [],
      "source": [
        "# Model 3: polynomial model (degree 2) on numeric features\n",
        "poly = PolynomialFeatures(degree=2, include_bias=False)\n",
        "X_poly_train = poly.fit_transform(X_train)\n",
        "X_poly_test = poly.transform(X_test)\n",
        "models[\"Poly_Degree2\"] = LinearRegression().fit(X_poly_train, y_train)\n"
      ]
    },
    {
      "cell_type": "code",
      "execution_count": 30,
      "metadata": {},
      "outputs": [],
      "source": [
        "# Model 4: linear model excluding body_mass_g\n",
        "cols4 = [c for c in X_train.columns if \"body_mass_g\" not in c]\n",
        "models[\"No_BodyMass\"] = LinearRegression().fit(X_train[cols4], y_train)"
      ]
    },
    {
      "cell_type": "code",
      "execution_count": 31,
      "metadata": {},
      "outputs": [
        {
          "name": "stdout",
          "output_type": "stream",
          "text": [
            "{'Linear_All': LinearRegression(), 'Linear_Subset': LinearRegression(), 'Poly_Degree2': LinearRegression(), 'No_BodyMass': LinearRegression()}\n"
          ]
        }
      ],
      "source": [
        "print(models)"
      ]
    },
    {
      "cell_type": "code",
      "execution_count": 32,
      "metadata": {},
      "outputs": [],
      "source": [
        "records = []\n"
      ]
    },
    {
      "cell_type": "code",
      "execution_count": 33,
      "metadata": {},
      "outputs": [],
      "source": [
        "# Test\n",
        "for name, m in models.items():\n",
        "    if name == \"Poly_Degree2\":\n",
        "        y_pred = m.predict(X_poly_test)\n",
        "    elif name == \"Linear_Subset\":\n",
        "        y_pred = m.predict(X_test[cols2])\n",
        "    elif name == \"No_BodyMass\":\n",
        "        y_pred = m.predict(X_test[cols4])\n",
        "    else:\n",
        "        y_pred = m.predict(X_test)\n",
        "\n",
        "    mse = mean_squared_error(y_test, y_pred)\n",
        "    records.append({\n",
        "        \"Model\": name, \"Split\": \"Test\",\n",
        "        \"RMSE\": np.sqrt(mse), \"MSE\": mse, \"R2\": r2_score(y_test, y_pred)\n",
        "    })"
      ]
    },
    {
      "cell_type": "code",
      "execution_count": 34,
      "metadata": {},
      "outputs": [],
      "source": [
        "# Train\n",
        "for name, m in models.items():\n",
        "    if name == \"Poly_Degree2\":\n",
        "        y_pred = m.predict(X_poly_train)\n",
        "    elif name == \"Linear_Subset\":\n",
        "        y_pred = m.predict(X_train[cols2])\n",
        "    elif name == \"No_BodyMass\":\n",
        "        y_pred = m.predict(X_train[cols4])\n",
        "    else:\n",
        "        y_pred = m.predict(X_train)\n",
        "\n",
        "    mse = mean_squared_error(y_train, y_pred)\n",
        "    records.append({\n",
        "        \"Model\": name, \"Split\": \"Train\",\n",
        "        \"RMSE\": np.sqrt(mse), \"MSE\": mse, \"R2\": r2_score(y_train, y_pred)\n",
        "    })"
      ]
    },
    {
      "cell_type": "code",
      "execution_count": 35,
      "metadata": {},
      "outputs": [
        {
          "data": {
            "text/html": [
              "<div>\n",
              "<style scoped>\n",
              "    .dataframe tbody tr th:only-of-type {\n",
              "        vertical-align: middle;\n",
              "    }\n",
              "\n",
              "    .dataframe tbody tr th {\n",
              "        vertical-align: top;\n",
              "    }\n",
              "\n",
              "    .dataframe thead th {\n",
              "        text-align: right;\n",
              "    }\n",
              "</style>\n",
              "<table border=\"1\" class=\"dataframe\">\n",
              "  <thead>\n",
              "    <tr style=\"text-align: right;\">\n",
              "      <th></th>\n",
              "      <th>Model</th>\n",
              "      <th>Split</th>\n",
              "      <th>RMSE</th>\n",
              "      <th>MSE</th>\n",
              "      <th>R2</th>\n",
              "    </tr>\n",
              "  </thead>\n",
              "  <tbody>\n",
              "    <tr>\n",
              "      <th>0</th>\n",
              "      <td>Linear_All</td>\n",
              "      <td>Test</td>\n",
              "      <td>0.749885</td>\n",
              "      <td>0.562327</td>\n",
              "      <td>0.864551</td>\n",
              "    </tr>\n",
              "    <tr>\n",
              "      <th>1</th>\n",
              "      <td>Linear_All</td>\n",
              "      <td>Train</td>\n",
              "      <td>0.785860</td>\n",
              "      <td>0.617576</td>\n",
              "      <td>0.838125</td>\n",
              "    </tr>\n",
              "    <tr>\n",
              "      <th>2</th>\n",
              "      <td>Linear_Subset</td>\n",
              "      <td>Test</td>\n",
              "      <td>1.552386</td>\n",
              "      <td>2.409902</td>\n",
              "      <td>0.419523</td>\n",
              "    </tr>\n",
              "    <tr>\n",
              "      <th>3</th>\n",
              "      <td>Linear_Subset</td>\n",
              "      <td>Train</td>\n",
              "      <td>1.554783</td>\n",
              "      <td>2.417349</td>\n",
              "      <td>0.366381</td>\n",
              "    </tr>\n",
              "    <tr>\n",
              "      <th>4</th>\n",
              "      <td>No_BodyMass</td>\n",
              "      <td>Test</td>\n",
              "      <td>0.763177</td>\n",
              "      <td>0.582439</td>\n",
              "      <td>0.859707</td>\n",
              "    </tr>\n",
              "    <tr>\n",
              "      <th>5</th>\n",
              "      <td>No_BodyMass</td>\n",
              "      <td>Train</td>\n",
              "      <td>0.798816</td>\n",
              "      <td>0.638107</td>\n",
              "      <td>0.832744</td>\n",
              "    </tr>\n",
              "    <tr>\n",
              "      <th>6</th>\n",
              "      <td>Poly_Degree2</td>\n",
              "      <td>Test</td>\n",
              "      <td>7.493606</td>\n",
              "      <td>56.154136</td>\n",
              "      <td>-12.525949</td>\n",
              "    </tr>\n",
              "    <tr>\n",
              "      <th>7</th>\n",
              "      <td>Poly_Degree2</td>\n",
              "      <td>Train</td>\n",
              "      <td>0.672632</td>\n",
              "      <td>0.452433</td>\n",
              "      <td>0.881411</td>\n",
              "    </tr>\n",
              "  </tbody>\n",
              "</table>\n",
              "</div>"
            ],
            "text/plain": [
              "           Model  Split      RMSE        MSE         R2\n",
              "0     Linear_All   Test  0.749885   0.562327   0.864551\n",
              "1     Linear_All  Train  0.785860   0.617576   0.838125\n",
              "2  Linear_Subset   Test  1.552386   2.409902   0.419523\n",
              "3  Linear_Subset  Train  1.554783   2.417349   0.366381\n",
              "4    No_BodyMass   Test  0.763177   0.582439   0.859707\n",
              "5    No_BodyMass  Train  0.798816   0.638107   0.832744\n",
              "6   Poly_Degree2   Test  7.493606  56.154136 -12.525949\n",
              "7   Poly_Degree2  Train  0.672632   0.452433   0.881411"
            ]
          },
          "execution_count": null,
          "metadata": {},
          "output_type": "execute_result"
        }
      ],
      "source": [
        "results_df = (pd.DataFrame(records)\n",
        "              .sort_values([\"Model\",\"Split\"])\n",
        "              .reset_index(drop=True))\n",
        "\n",
        "results_df"
      ]
    },
    {
      "cell_type": "markdown",
      "metadata": {},
      "source": [
        "Create a plot like the right plot of Fig 1. in our `Model Validation` chapter with the training and test error plotted for each of your four models.\n",
        "\n",
        "Which of your models was best?"
      ]
    },
    {
      "cell_type": "code",
      "execution_count": 36,
      "metadata": {},
      "outputs": [],
      "source": [
        "# Order models in a sensible, readable way\n",
        "model_order = [\"Linear_Subset\", \"No_BodyMass\", \"Linear_All\", \"Poly_Degree2\"]\n",
        "results_df[\"Model\"] = pd.Categorical(results_df[\"Model\"], categories=model_order, ordered=True)\n",
        "results_df = results_df.sort_values([\"Model\",\"Split\"]).reset_index(drop=True)\n"
      ]
    },
    {
      "cell_type": "code",
      "execution_count": 37,
      "metadata": {},
      "outputs": [
        {
          "name": "stdout",
          "output_type": "stream",
          "text": [
            "\n",
            "Clean Results:\n",
            "        Model Data Split  RMSE (bill_depth_mm)    MSE      R²\n",
            "Linear_Subset       Test                 1.552  2.410   0.420\n",
            "Linear_Subset      Train                 1.555  2.417   0.366\n",
            "  No_BodyMass       Test                 0.763  0.582   0.860\n",
            "  No_BodyMass      Train                 0.799  0.638   0.833\n",
            "   Linear_All       Test                 0.750  0.562   0.865\n",
            "   Linear_All      Train                 0.786  0.618   0.838\n",
            " Poly_Degree2       Test                 7.494 56.154 -12.526\n",
            " Poly_Degree2      Train                 0.673  0.452   0.881\n"
          ]
        }
      ],
      "source": [
        "# Round numeric metrics for readability\n",
        "results_df[[\"RMSE\",\"MSE\",\"R2\"]] = results_df[[\"RMSE\",\"MSE\",\"R2\"]].round(3)\n",
        "\n",
        "# Wider, nicely labeled table\n",
        "pretty_cols = {\n",
        "    \"Model\": \"Model\",\n",
        "    \"Split\": \"Data Split\",\n",
        "    \"RMSE\": \"RMSE (bill_depth_mm)\",\n",
        "    \"MSE\": \"MSE\",\n",
        "    \"R2\": \"R²\"\n",
        "}\n",
        "\n",
        "clean_results = results_df.rename(columns=pretty_cols)\n",
        "print(\"\\nClean Results:\")\n",
        "print(clean_results.to_string(index=False))\n"
      ]
    },
    {
      "cell_type": "code",
      "execution_count": 40,
      "metadata": {},
      "outputs": [],
      "source": [
        "from plotnine import ggplot, aes, geom_bar, position_dodge, labs, theme_bw, theme, element_text\n"
      ]
    },
    {
      "cell_type": "code",
      "execution_count": 41,
      "metadata": {},
      "outputs": [],
      "source": [
        "# Melt (tidy) results for Train/Test RMSE comparison\n",
        "plot_data = results_df[[\"Model\", \"Split\", \"RMSE\"]].copy()\n",
        "plot_data[\"Split\"] = plot_data[\"Split\"].replace({\"Train\": \"Train RMSE\", \"Test\": \"Test RMSE\"})\n"
      ]
    },
    {
      "cell_type": "code",
      "execution_count": 42,
      "metadata": {},
      "outputs": [],
      "source": [
        "p = (\n",
        "    ggplot(plot_data, aes(x=\"Model\", y=\"RMSE\", fill=\"Split\"))\n",
        "    + geom_bar(stat=\"identity\", position=position_dodge(width=0.8))\n",
        "    + labs(\n",
        "        title=\"Training vs Test RMSE by Model\",\n",
        "        x=\"Model\",\n",
        "        y=\"RMSE (bill_depth_mm)\",\n",
        "        fill=\"Data Split\"\n",
        "    )\n",
        "    + theme_bw()\n",
        "    + theme(\n",
        "        axis_text_x=element_text(rotation=15, ha=\"right\", size=10),\n",
        "        axis_title_x=element_text(size=12),\n",
        "        axis_title_y=element_text(size=12),\n",
        "        plot_title=element_text(size=14, weight=\"bold\", ha=\"center\")\n",
        "    )\n",
        ")"
      ]
    },
    {
      "cell_type": "code",
      "execution_count": 43,
      "metadata": {},
      "outputs": [
        {
          "data": {
            "image/png": "[encoded data removed]"
          },
          "metadata": {},
          "output_type": "display_data"
        }
      ],
      "source": [
        "p.show()"
      ]
    }
  ],
  "metadata": {
    "colab": {
      "provenance": []
    },
    "kernelspec": {
      "display_name": "Python 3",
      "name": "python3"
    },
    "language_info": {
      "name": "python"
    }
  },
  "nbformat": 4,
  "nbformat_minor": 0
}
