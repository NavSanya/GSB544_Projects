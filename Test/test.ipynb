{
 "cells": [
  {
   "cell_type": "code",
   "execution_count": 4,
   "id": "afc1eeed",
   "metadata": {},
   "outputs": [
    {
     "data": {
      "text/plain": [
       "array(['Sunday', 'Saturday'], dtype='<U9')"
      ]
     },
     "execution_count": null,
     "metadata": {},
     "output_type": "execute_result"
    }
   ],
   "source": [
    "import numpy as np\n",
    "weekdays = np.array([\"Sunday\",\"Monday\", \"Tuesday\", \"Wednesday\", \"Thursday\", \"Friday\", \"Saturday\"])\n",
    "weekend  = np.array([\"Sunday\",\"Saturday\"])\n",
    "relax_days = np.isin(weekdays, weekend)\n",
    "weekdays[relax_days]   # => array of weekend days\n",
    "\n",
    "# print(relax_days)\n",
    "\n"
   ]
  },
  {
   "cell_type": "code",
   "execution_count": 2,
   "id": "493cc140",
   "metadata": {},
   "outputs": [
    {
     "name": "stdout",
     "output_type": "stream",
     "text": [
      "a\n",
      "['a', 3]\n",
      "a\n",
      "True\n"
     ]
    }
   ],
   "source": [
    "x = [\"a\", 3, True]\n",
    "print(x[0])    # => \"a\"\n",
    "print(x[0:2])  # => [\"a\", 3]\n",
    "print(x.pop(0)) # removes and returns first element\n",
    "print(x.pop())"
   ]
  },
  {
   "cell_type": "code",
   "execution_count": 3,
   "id": "db089170",
   "metadata": {},
   "outputs": [
    {
     "data": {
      "text/plain": [
       "array([1, 4])"
      ]
     },
     "execution_count": null,
     "metadata": {},
     "output_type": "execute_result"
    }
   ],
   "source": [
    "from numpy import array\n",
    "digits_pi = array([3,1,4,1,5,9,2,6,5,3,5])\n",
    "digits_pi[1]        # => 1\n",
    "digits_pi[1:3]"
   ]
  }
 ],
 "metadata": {
  "language_info": {
   "name": "python"
  }
 },
 "nbformat": 4,
 "nbformat_minor": 5
}
