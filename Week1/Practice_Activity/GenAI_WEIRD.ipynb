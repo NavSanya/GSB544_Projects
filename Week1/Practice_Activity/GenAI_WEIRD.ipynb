{
  "cells": [
    {
      "cell_type": "markdown",
      "metadata": {
        "id": "OSuvtILIHBgK"
      },
      "source": [
        "## Overview\n",
        "\n",
        "In this activity, you will produce code using only prompts to ChatGPT.  Then you will test and critique the code.\n",
        "\n"
      ]
    },
    {
      "cell_type": "markdown",
      "metadata": {
        "id": "xlQt6hloHLvk"
      },
      "source": [
        "## Part One  (Partner A does this)\n",
        "\n",
        "1. Run the code below to create an object"
      ]
    },
    {
      "cell_type": "code",
      "execution_count": 30,
      "metadata": {
        "id": "ZzebX_b6G9k5"
      },
      "outputs": [],
      "source": [
        "lyrics = \"\"\"\n",
        "Harry Truman, Doris Day, Red China, Johnnie Ray\n",
        "South Pacific, Walter Winchell, Joe DiMaggio\n",
        "Joe McCarthy, Richard Nixon, Studebaker, television\n",
        "North Korea, South Korea, Marilyn Monroe\n",
        "Rosenbergs, H-bomb, Sugar Ray, Panmunjom\n",
        "Brando, \"The King and I\", and \"The Catcher in the Rye\"\n",
        "Eisenhower, Vaccine, England's got a new queen\n",
        "Marciano, Liberace, Santayana, goodbye\n",
        "We didn't start the fire\n",
        "It was always burning, since the world's been turning\n",
        "We didn't start the fire\n",
        "No, we didn't light it, but we tried to fight it\n",
        "Joseph Stalin, Malenkov, Nasser and Prokofiev\n",
        "Rockefeller, Campanella, Communist Bloc\n",
        "Roy Cohn, Juan Peron, Toscanini, Dacron\n",
        "Dien Bien Phu falls, \"Rock Around the Clock\"\n",
        "Einstein, James Dean, Brooklyn's got a winning team\n",
        "Davy Crockett, Peter Pan, Elvis Presley, Disneyland\n",
        "Bardot, Budapest, Alabama, Krushchev\n",
        "Princess Grace, Peyton Place, Trouble in the Suez\n",
        "We didn't start the fire\n",
        "It was always burning, since the world's been turning\n",
        "We didn't start the fire\n",
        "No, we didn't light it, but we tried to fight it\n",
        "Little Rock, Pasternak, Mickey Mantle, Kerouac\n",
        "Sputnik, Chou En-Lai, \"Bridge on the River Kwai\"\n",
        "Lebanon, Charles de Gaulle, California baseball\n",
        "Starkweather homicide, children of thalidomide\n",
        "Buddy Holly, Ben Hur, space monkey, mafia\n",
        "Hula hoops, Castro, Edsel is a no-go\n",
        "U2, Syngman Rhee, Payola and Kennedy\n",
        "Chubby Checker, Psycho, Belgians in the Congo\n",
        "We didn't start the fire\n",
        "It was always burning, since the world's been turning\n",
        "We didn't start the fire\n",
        "No, we didn't light it, but we tried to fight it\n",
        "Hemingway, Eichmann, \"Stranger in a Strange Land\"\n",
        "Dylan, Berlin, Bay of Pigs invasion\n",
        "\"Lawrence of Arabia\", British Beatlemania\n",
        "Ole Miss, John Glenn, Liston beats Patterson\n",
        "Pope Paul, Malcolm X, British politician sex\n",
        "JFK – blown away, what else do I have to say?\n",
        "We didn't start the fire\n",
        "It was always burning, since the world's been turning\n",
        "We didn't start the fire\n",
        "No, we didn't light it, but we tried to fight it\n",
        "Birth control, Ho Chi Minh, Richard Nixon back again\n",
        "Moonshot, Woodstock, Watergate, punk rock\n",
        "Begin, Reagan, Palestine, terror on the airline\n",
        "Ayatollah's in Iran, Russians in Afghanistan\n",
        "\"Wheel of Fortune\", Sally Ride, heavy metal suicide\n",
        "Foreign debts, homeless vets, AIDS, crack, Bernie Goetz\n",
        "Hypodermics on the shore, China's under martial law\n",
        "Rock and roller, cola wars, I can't take it anymore\n",
        "We didn't start the fire\n",
        "It was always burning, since the world's been turning\n",
        "We didn't start the fire\n",
        "But when we are gone\n",
        "It will still burn on, and on, and on, and on, and on, and on, and on, and on\n",
        "We didn't start the fire\n",
        "It was always burning, since the world's been turning\n",
        "We didn't start the fire\n",
        "No, we didn't light it, but we tried to fight it\n",
        "We didn't start the fire\n",
        "It was always burning, since the world's been turning\n",
        "We didn't start the fire\n",
        "No, we didn't light it, but we tried to fight it\n",
        "We didn't start the fire\n",
        "It was always burning, since the world's been turning\n",
        "We didn't start the fire\n",
        "No, we didn't light it, but we tried to fight it\n",
        "\"\"\""
      ]
    },
    {
      "cell_type": "markdown",
      "metadata": {
        "id": "_1Zpqi-aIdCL"
      },
      "source": [
        "2. Prompt ChatGPT to write you a function called `get_names` that will find all the first names in the song.  For example,\n",
        "\n",
        "```\n",
        "first_lyric = \"Harry Truman, Doris Day, Red China, Johnnie Ray\"\n",
        "get_names(first_lyric)\n",
        "```\n",
        "\n",
        "should return\n",
        "\n",
        "```\n",
        "Harry, Doris, Johnnie\n",
        "```"
      ]
    },
    {
      "cell_type": "markdown",
      "metadata": {
        "id": "aJMQ3zb0I2VI"
      },
      "source": [
        "3.  Copy the code for your function in the block below."
      ]
    },
    {
      "cell_type": "code",
      "execution_count": 31,
      "metadata": {
        "id": "nE-OnU21myPM"
      },
      "outputs": [],
      "source": [
        "import spacy\n",
        "\n",
        "# Load the small English model\n",
        "nlp = spacy.load(\"en_core_web_sm\")\n",
        "\n",
        "def get_names(lyrics: str):\n",
        "    \"\"\"\n",
        "    Extract first names mentioned in song lyrics.\n",
        "    \n",
        "    Args:\n",
        "        lyrics (str): The song lyrics.\n",
        "    \n",
        "    Returns:\n",
        "        list[str]: A list of unique first names found.\n",
        "    \"\"\"\n",
        "    doc = nlp(lyrics)\n",
        "    names = set()\n",
        "    \n",
        "    for ent in doc.ents:\n",
        "        if ent.label_ == \"PERSON\":\n",
        "            # Take the first token of the name span (the first name)\n",
        "            first_name = ent.text.split()[0]\n",
        "            names.add(first_name)\n",
        "    \n",
        "    return sorted(names)\n",
        "\n",
        "# Example usage\n",
        "# lyrics = \"\"\"\n",
        "# Hey Jude, don't make it bad\n",
        "# Take a sad song and make it better\n",
        "# Remember to let her into your heart\n",
        "# Then you can start to make it better\n",
        "# Oh Maria, say it loud\n",
        "# And John was singing proud\n",
        "# \"\"\"\n",
        "\n",
        "# print(get_names(lyrics))\n"
      ]
    },
    {
      "cell_type": "markdown",
      "metadata": {
        "id": "iaPdKugGI6wE"
      },
      "source": [
        "## Part Two (Partner B does this)\n",
        "\n",
        "1. Try the code below, and see how well the function did."
      ]
    },
    {
      "cell_type": "code",
      "execution_count": 32,
      "metadata": {
        "id": "OWscDDbyJFAF"
      },
      "outputs": [
        {
          "name": "stdout",
          "output_type": "stream",
          "text": [
            "['Harry', 'Johnnie']\n",
            "-----------\n",
            "['Ayatollah', 'Begin', 'Ben', 'Bernie', 'Buddy', 'Castro', 'Charles', 'Chou', 'Chubby', 'Eichmann', 'Einstein', 'Elvis', 'Harry', 'Hemingway', 'Ho', 'JFK', 'James', 'Joe', 'John', 'Johnnie', 'Joseph', 'Juan', 'Kennedy', 'Liston', 'Malcolm', 'Malenkov', 'Marilyn', 'Mickey', 'Nasser', 'Panmunjom', 'Patterson', 'Peter', 'Pope', 'Reagan', 'Richard', 'Roy', 'Sally', 'Sugar', 'Vaccine', 'Walter']\n"
          ]
        }
      ],
      "source": [
        "first_lyric = \"Harry Truman, Doris Day, Red China, Johnnie Ray\"\n",
        "print(get_names(first_lyric))\n",
        "print(\"-----------\")\n",
        "print(get_names(lyrics))"
      ]
    },
    {
      "cell_type": "markdown",
      "metadata": {
        "id": "8gVMmgacPVP5"
      },
      "source": [
        "2. Write a few unit tests to highlight the problems you see with the function."
      ]
    },
    {
      "cell_type": "code",
      "execution_count": null,
      "metadata": {
        "id": "rBRMjbbdPUY3"
      },
      "outputs": [],
      "source": []
    },
    {
      "cell_type": "markdown",
      "metadata": {
        "id": "iUDr_1AAJILa"
      },
      "source": [
        "3. Try to prompt ChatGPT to improve or debug this code.  Can you tell it things that didn't work, and get it to improve them?  \n",
        "\n",
        "Put your new function below, then try it out."
      ]
    },
    {
      "cell_type": "code",
      "execution_count": 33,
      "metadata": {
        "id": "XMNa4aAlJde6"
      },
      "outputs": [
        {
          "name": "stderr",
          "output_type": "stream",
          "text": [
            "[nltk_data] Downloading package names to\n",
            "[nltk_data]     C:\\Users\\navsa\\AppData\\Roaming\\nltk_data...\n",
            "[nltk_data]   Package names is already up-to-date!\n"
          ]
        }
      ],
      "source": [
        "import spacy\n",
        "import nltk\n",
        "from nltk.corpus import names\n",
        "\n",
        "nltk.download('names')\n",
        "\n",
        "nlp = spacy.load(\"en_core_web_sm\")\n",
        "\n"
      ]
    },
    {
      "cell_type": "code",
      "execution_count": 39,
      "metadata": {},
      "outputs": [],
      "source": [
        "valid_first_names = set(name.lower() for name in names.words())\n",
        "\n",
        "def get_names(lyrics: str):\n",
        "    doc = nlp(lyrics)\n",
        "    extracted = set()\n",
        "    \n",
        "    for ent in doc.ents:\n",
        "        if ent.label_ == \"PERSON\":\n",
        "            for token in ent.text.split():\n",
        "                if token.lower() in valid_first_names:\n",
        "                    extracted.add(token)\n",
        "    \n",
        "    return sorted(extracted)"
      ]
    },
    {
      "cell_type": "code",
      "execution_count": 40,
      "metadata": {
        "id": "HlW3bFEIJf40"
      },
      "outputs": [
        {
          "name": "stdout",
          "output_type": "stream",
          "text": [
            "['Harry', 'Johnnie', 'Ray', 'Truman']\n",
            "-----------\n",
            "['Ben', 'Bernie', 'Buddy', 'Charles', 'Dean', 'Elvis', 'Glenn', 'Harry', 'Holly', 'James', 'Joe', 'John', 'Johnnie', 'Joseph', 'Juan', 'Kennedy', 'Malcolm', 'Marilyn', 'Mickey', 'Monroe', 'Paul', 'Peter', 'Ray', 'Reagan', 'Richard', 'Roy', 'Sally', 'Truman', 'Walter']\n"
          ]
        }
      ],
      "source": [
        "first_lyric = \"Harry Truman, Doris Day, Red China, Johnnie Ray\"\n",
        "print(get_names(first_lyric))\n",
        "print(\"-----------\")\n",
        "print(get_names(lyrics))"
      ]
    },
    {
      "cell_type": "markdown",
      "metadata": {
        "id": "qIcxx7N5JeAf"
      },
      "source": [
        "## Part Three (together)\n",
        "\n",
        "Discuss with each other and answer the following questions:\n"
      ]
    },
    {
      "cell_type": "markdown",
      "metadata": {
        "id": "Eu7Stiu9KB9O"
      },
      "source": [
        "\n",
        "1. How successfully was the GenAI able to create a working function?  \n",
        "\n",
        "It did not give a completely correct code. We have to promt and repromt to get a good answer."
      ]
    },
    {
      "cell_type": "markdown",
      "metadata": {
        "id": "LvkIQNoDKDH-"
      },
      "source": [
        "2. What were some mistakes the GenAI made that good human programmers probably would not make?\n"
      ]
    },
    {
      "cell_type": "markdown",
      "metadata": {
        "id": "FLpMjJB6KEu4"
      },
      "source": [
        "3. What are some things GenAI helped with, that might save a programmer time or errors?"
      ]
    },
    {
      "cell_type": "markdown",
      "metadata": {
        "id": "O66MFuWpPf1l"
      },
      "source": [
        "4. How would you score this function on each of the \"WEIRD-ER\" categories?  How would you improve the scores?"
      ]
    }
  ],
  "metadata": {
    "colab": {
      "provenance": []
    },
    "kernelspec": {
      "display_name": "Python 3",
      "name": "python3"
    },
    "language_info": {
      "name": "python"
    }
  },
  "nbformat": 4,
  "nbformat_minor": 0
}
