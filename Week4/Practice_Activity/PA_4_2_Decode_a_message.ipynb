{
 "cells": [
  {
   "cell_type": "markdown",
   "metadata": {
    "id": "kPj76X_FP2uq"
   },
   "source": [
    "## Setup\n",
    "\n",
    "Run the code below to load the scrambled message:\n"
   ]
  },
  {
   "cell_type": "code",
   "execution_count": 2,
   "metadata": {
    "executionInfo": {
     "elapsed": 1456,
     "status": "ok",
     "timestamp": 1760565500807,
     "user": {
      "displayName": "Nav Sanya Anand",
      "userId": "02554823300121068065"
     },
     "user_tz": 420
    },
    "id": "YwkYMR2qP2ur"
   },
   "outputs": [],
   "source": [
    "import pandas as pd\n",
    "import re\n",
    "import string\n",
    "\n",
    "message = pd.read_csv(\"https://www.dropbox.com/s/lgpn3vmksk3ssdo/scrambled_message.txt?dl=1\")['Word']"
   ]
  },
  {
   "cell_type": "code",
   "execution_count": 3,
   "metadata": {
    "colab": {
     "base_uri": "https://localhost:8080/",
     "height": 458
    },
    "executionInfo": {
     "elapsed": 24,
     "status": "ok",
     "timestamp": 1760565500837,
     "user": {
      "displayName": "Nav Sanya Anand",
      "userId": "02554823300121068065"
     },
     "user_tz": 420
    },
    "id": "rqykaCOxF1Z9",
    "outputId": "9fc6da54-2db8-4f3e-b314-f4fd826e235b"
   },
   "outputs": [
    {
     "data": {
      "text/plain": [
       "0                    Koila!\n",
       "1                     In   \n",
       "2                     kiew,\n",
       "3                         a\n",
       "4                 humble   \n",
       "               ...         \n",
       "122                     you\n",
       "123                 mabugh.\n",
       "124              ughhh?call\n",
       "125        meugh.ughhhh!   \n",
       "126                      K.\n",
       "Name: Word, Length: 127, dtype: object"
      ]
     },
     "execution_count": null,
     "metadata": {},
     "output_type": "execute_result"
    }
   ],
   "source": [
    "message"
   ]
  },
  {
   "cell_type": "code",
   "execution_count": 4,
   "metadata": {
    "executionInfo": {
     "elapsed": 3,
     "status": "ok",
     "timestamp": 1760565500853,
     "user": {
      "displayName": "Nav Sanya Anand",
      "userId": "02554823300121068065"
     },
     "user_tz": 420
    },
    "id": "1e2z4sWB4FUh"
   },
   "outputs": [],
   "source": [
    "def print_message(mes):\n",
    "        for w in mes.astype(str).tolist():\n",
    "                print(w)\n"
   ]
  },
  {
   "cell_type": "markdown",
   "metadata": {
    "id": "cI8ZE3LAP2us"
   },
   "source": [
    "In this activity, a \"word\" refers to any set of characters with no white space, even though they are not truly an English word.  That is, even though many of elements of the scrambled message vector are nonsense, and some have punctuation, you can consider each element to be a \"word\".\n",
    "\n",
    "Beware!  The object named `message` is a **pandas Series** of strings.  If you want to use functions that expect a string, rather than a series, remember `.apply()` and `lambda` functions.\n",
    "\n"
   ]
  },
  {
   "cell_type": "markdown",
   "metadata": {
    "id": "dYISAD8uQLAy"
   },
   "source": [
    "\n",
    "## Warm-up exercises\n",
    "\n",
    "1. How many characters are in the scrambled message?\n",
    "2. How many of these characters are white space?\n",
    "3. How many words are in the scrambled message?\n",
    "4. Show all the punctuation marks in the scrambled message.\n",
    "5. Print out, in all capitals, the longest word in the scrambled message.\n",
    "6. Print out every piece of a word that starts with the letter \"m\" and ends with the letter \"z\" in the scrambled message."
   ]
  },
  {
   "cell_type": "code",
   "execution_count": 5,
   "metadata": {
    "colab": {
     "base_uri": "https://localhost:8080/"
    },
    "executionInfo": {
     "elapsed": 13,
     "status": "ok",
     "timestamp": 1760565500872,
     "user": {
      "displayName": "Nav Sanya Anand",
      "userId": "02554823300121068065"
     },
     "user_tz": 420
    },
    "id": "6vB1tbjiQNvE",
    "outputId": "1f0e437c-cdcf-48aa-88df-6b29f1fa2baf"
   },
   "outputs": [
    {
     "name": "stdout",
     "output_type": "stream",
     "text": [
      "2544\n"
     ]
    }
   ],
   "source": [
    "# 1. How many characters are in the scrambled message?\n",
    "total_chars = int(message.str.len().sum())\n",
    "print(total_chars)"
   ]
  },
  {
   "cell_type": "code",
   "execution_count": 6,
   "metadata": {
    "colab": {
     "base_uri": "https://localhost:8080/"
    },
    "executionInfo": {
     "elapsed": 39,
     "status": "ok",
     "timestamp": 1760565500939,
     "user": {
      "displayName": "Nav Sanya Anand",
      "userId": "02554823300121068065"
     },
     "user_tz": 420
    },
    "id": "8VJlju1H4FUi",
    "outputId": "fe80c74f-1bef-4cdc-ab34-b39b1b41276a"
   },
   "outputs": [
    {
     "name": "stdout",
     "output_type": "stream",
     "text": [
      "1652\n"
     ]
    }
   ],
   "source": [
    "#2. How many of these characters are white space?\n",
    "total_whitespace = int(\n",
    "    message.apply(lambda s: sum(1 for ch in str(s) if ch.isspace())).sum()\n",
    ")\n",
    "print(total_whitespace)\n"
   ]
  },
  {
   "cell_type": "code",
   "execution_count": 7,
   "metadata": {
    "colab": {
     "base_uri": "https://localhost:8080/"
    },
    "executionInfo": {
     "elapsed": 15,
     "status": "ok",
     "timestamp": 1760565500941,
     "user": {
      "displayName": "Nav Sanya Anand",
      "userId": "02554823300121068065"
     },
     "user_tz": 420
    },
    "id": "2h72mqiF4FUj",
    "outputId": "9ea5059e-0e9f-433d-f86a-17ce4c951e78"
   },
   "outputs": [
    {
     "name": "stdout",
     "output_type": "stream",
     "text": [
      "127\n"
     ]
    }
   ],
   "source": [
    "# 3. How many words are in the scrambled message?\n",
    "num_words = int(message.size)\n",
    "print(num_words)\n"
   ]
  },
  {
   "cell_type": "code",
   "execution_count": 8,
   "metadata": {
    "colab": {
     "base_uri": "https://localhost:8080/"
    },
    "executionInfo": {
     "elapsed": 25,
     "status": "ok",
     "timestamp": 1760565500961,
     "user": {
      "displayName": "Nav Sanya Anand",
      "userId": "02554823300121068065"
     },
     "user_tz": 420
    },
    "id": "j4siTvJJ4FUj",
    "outputId": "353a7429-fa69-4b89-cf0e-9e225b5959c7"
   },
   "outputs": [
    {
     "name": "stdout",
     "output_type": "stream",
     "text": [
      "['!', ',', '.', ';', '?']\n"
     ]
    }
   ],
   "source": [
    "# 4) Show all the punctuation marks in the scrambled message.\n",
    "punctuation_found = sorted({\n",
    "    ch for s in message.astype(str) for ch in s if ch in string.punctuation\n",
    "})\n",
    "print(punctuation_found)\n"
   ]
  },
  {
   "cell_type": "code",
   "execution_count": 9,
   "metadata": {
    "colab": {
     "base_uri": "https://localhost:8080/"
    },
    "executionInfo": {
     "elapsed": 16,
     "status": "ok",
     "timestamp": 1760565500983,
     "user": {
      "displayName": "Nav Sanya Anand",
      "userId": "02554823300121068065"
     },
     "user_tz": 420
    },
    "id": "5EbiJUFV4FUj",
    "outputId": "99aacef3-e7a5-49ab-bd2b-2190174c2349"
   },
   "outputs": [
    {
     "name": "stdout",
     "output_type": "stream",
     "text": [
      "KAUDEVILLIANUGH?AOGHAJDBN\n"
     ]
    }
   ],
   "source": [
    "# 5) Print out, in all capitals, the longest word in the scrambled message.\n",
    "longest_word = message.iloc[message.astype(str).str.len().idxmax()]\n",
    "print(str(longest_word).upper())\n"
   ]
  },
  {
   "cell_type": "code",
   "execution_count": 10,
   "metadata": {
    "colab": {
     "base_uri": "https://localhost:8080/"
    },
    "executionInfo": {
     "elapsed": 16,
     "status": "ok",
     "timestamp": 1760565501002,
     "user": {
      "displayName": "Nav Sanya Anand",
      "userId": "02554823300121068065"
     },
     "user_tz": 420
    },
    "id": "jm1d0nWf4FUj",
    "outputId": "0c40e7d7-cebf-40c4-8e0b-6ced02c9c8b0"
   },
   "outputs": [
    {
     "name": "stdout",
     "output_type": "stream",
     "text": [
      "['mosz', 'maaz']\n"
     ]
    }
   ],
   "source": [
    "# 6) Print out every piece of a word that starts with \"m\" and ends with \"z\".\n",
    "mz_pieces = []\n",
    "for s in message.astype(str):\n",
    "    mz_pieces.extend(re.findall(r'(?i)m[^ \\t\\n\\r]*?z', s))\n",
    "print(mz_pieces)\n",
    "\n"
   ]
  },
  {
   "cell_type": "markdown",
   "metadata": {
    "id": "l3iJnnCJQOh7"
   },
   "source": [
    "\n",
    "\n",
    "## Decode a message\n",
    "\n",
    "Complete the following steps to decode the message.  \n",
    "\n",
    "1. Remove any spaces before or after each word.\n",
    "2. Any time you see the word \"ugh\", with any number of h's, followed by a punctuation mark, delete this.\n",
    "3. No word should be longer than 16 characters. Drop all extra characters beyond 13 off the end of each word.\n",
    "4. Replace all instances of exactly 2 a's with exactly 2 e's.\n",
    "5. Replace all z's with t's.\n",
    "6. Every word that ends in b, change that to a y.  *Hint: look out for punctuation!*\n",
    "7. Every word that starts with k, change that to a v.  *Hint: look out for capitalization!*\n",
    "8. Use `.join()` to recombine all your words into a message.\n",
    "9. Find the movie this quote is from."
   ]
  },
  {
   "cell_type": "code",
   "execution_count": 11,
   "metadata": {
    "executionInfo": {
     "elapsed": 44,
     "status": "ok",
     "timestamp": 1760565501043,
     "user": {
      "displayName": "Nav Sanya Anand",
      "userId": "02554823300121068065"
     },
     "user_tz": 420
    },
    "id": "RRfjUzxMQQ5j"
   },
   "outputs": [],
   "source": [
    "curr = message.astype(str).copy()\n"
   ]
  },
  {
   "cell_type": "code",
   "execution_count": 12,
   "metadata": {
    "colab": {
     "base_uri": "https://localhost:8080/"
    },
    "executionInfo": {
     "elapsed": 7,
     "status": "ok",
     "timestamp": 1760565501054,
     "user": {
      "displayName": "Nav Sanya Anand",
      "userId": "02554823300121068065"
     },
     "user_tz": 420
    },
    "id": "c0ZosBmg4FUk",
    "outputId": "321246b5-611e-4a44-aa51-7ada287d7f25"
   },
   "outputs": [
    {
     "name": "stdout",
     "output_type": "stream",
     "text": [
      "Koila!\n",
      "In\n",
      "kiew,\n",
      "a\n",
      "humble\n",
      "kaudevillianugh?aoghajdbn\n",
      "kezeran,\n",
      "casz\n",
      "kicariouslb\n",
      "as\n",
      "bozh\n",
      "kiczim\n",
      "ughhh!and\n",
      "killain\n",
      "bb\n",
      "zhe\n",
      "kicissizudes\n",
      "ughhh!of\n",
      "faze.\n",
      "Thisughhhh!\n",
      "kisage,\n",
      "noughhhh!\n",
      "ughhh?mereugh?\n",
      "kenaar\n",
      "ughhh?ofugh?\n",
      "ughhh?kanizy,\n",
      "ughhh?is\n",
      "a\n",
      "keszige\n",
      "of\n",
      "zhe\n",
      "kox\n",
      "ughhh!populi\n",
      "now\n",
      "kacanz,\n",
      "kanished.ugh?\n",
      "However,\n",
      "zhis\n",
      "kalorous\n",
      "kisizazion\n",
      "of\n",
      "a\n",
      "bygone\n",
      "kexazion\n",
      "szands\n",
      "kivified,\n",
      "ughhh!and\n",
      "hasugh.\n",
      "kowed\n",
      "zoughhhh!\n",
      "kanquish\n",
      "zhese\n",
      "kenalugh?\n",
      "andughhhh!\n",
      "ughhh!kirulenz\n",
      "kermin,\n",
      "kan\n",
      "guarding\n",
      "kiceugh.\n",
      "and\n",
      "kouchsafingugh?\n",
      "zhe\n",
      "kiolenzlb\n",
      "kicious\n",
      "ughhh?and\n",
      "koraciousugh?\n",
      "kiolazion\n",
      "of\n",
      "kolizion.ugh?\n",
      "ughhh?Theugh.\n",
      "onlb\n",
      "kerdicz\n",
      "isugh.\n",
      "kengeance;\n",
      "a\n",
      "ughhh?kendezza,\n",
      "heldughhhh!\n",
      "ughhh!as\n",
      "a\n",
      "kozive\n",
      "noz\n",
      "in\n",
      "kain,\n",
      "forugh.\n",
      "zhe\n",
      "kalue\n",
      "andugh?\n",
      "keracizb\n",
      "ofugh.\n",
      "such\n",
      "shall\n",
      "ughhh?one\n",
      "dabugh.\n",
      "kindicaze\n",
      "zheughhhh!\n",
      "kigilanzughhhh!\n",
      "and\n",
      "zhe\n",
      "kirzuous.\n",
      "Kerilb\n",
      "zhis\n",
      "kichyssoise\n",
      "ughhh!of\n",
      "ughhh!kerbiage\n",
      "kaars\n",
      "moszugh?\n",
      "kerbose,\n",
      "so\n",
      "lez\n",
      "me\n",
      "simplb\n",
      "addughhhh!\n",
      "zhaz\n",
      "izs\n",
      "mb\n",
      "ughhh?kerb\n",
      "good\n",
      "honourugh.\n",
      "zoughhhh!\n",
      "ughhh!maaz\n",
      "you\n",
      "ughhh!and\n",
      "you\n",
      "mabugh.\n",
      "ughhh?call\n",
      "meugh.ughhhh!\n",
      "K.\n"
     ]
    }
   ],
   "source": [
    "# 1) Remove any spaces before or after each word.\n",
    "curr = curr.str.strip()\n",
    "print_message(curr)"
   ]
  },
  {
   "cell_type": "code",
   "execution_count": 13,
   "metadata": {
    "colab": {
     "base_uri": "https://localhost:8080/"
    },
    "executionInfo": {
     "elapsed": 9,
     "status": "ok",
     "timestamp": 1760565501066,
     "user": {
      "displayName": "Nav Sanya Anand",
      "userId": "02554823300121068065"
     },
     "user_tz": 420
    },
    "id": "-4sYDLnd4FUk",
    "outputId": "bf97ea88-e5f8-4529-868d-fa3dc908cd65"
   },
   "outputs": [
    {
     "name": "stdout",
     "output_type": "stream",
     "text": [
      "Koila!\n",
      "In\n",
      "kiew,\n",
      "a\n",
      "humble\n",
      "kaudevillianaoghajdbn\n",
      "kezeran,\n",
      "casz\n",
      "kicariouslb\n",
      "as\n",
      "bozh\n",
      "kiczim\n",
      "and\n",
      "killain\n",
      "bb\n",
      "zhe\n",
      "kicissizudes\n",
      "of\n",
      "faze.\n",
      "This\n",
      "kisage,\n",
      "no\n",
      "mere\n",
      "kenaar\n",
      "of\n",
      "kanizy,\n",
      "is\n",
      "a\n",
      "keszige\n",
      "of\n",
      "zhe\n",
      "kox\n",
      "populi\n",
      "now\n",
      "kacanz,\n",
      "kanished.\n",
      "However,\n",
      "zhis\n",
      "kalorous\n",
      "kisizazion\n",
      "of\n",
      "a\n",
      "bygone\n",
      "kexazion\n",
      "szands\n",
      "kivified,\n",
      "and\n",
      "has\n",
      "kowed\n",
      "zo\n",
      "kanquish\n",
      "zhese\n",
      "kenal\n",
      "and\n",
      "kirulenz\n",
      "kermin,\n",
      "kan\n",
      "guarding\n",
      "kice\n",
      "and\n",
      "kouchsafing\n",
      "zhe\n",
      "kiolenzlb\n",
      "kicious\n",
      "and\n",
      "koracious\n",
      "kiolazion\n",
      "of\n",
      "kolizion.\n",
      "The\n",
      "onlb\n",
      "kerdicz\n",
      "is\n",
      "kengeance;\n",
      "a\n",
      "kendezza,\n",
      "held\n",
      "as\n",
      "a\n",
      "kozive\n",
      "noz\n",
      "in\n",
      "kain,\n",
      "for\n",
      "zhe\n",
      "kalue\n",
      "and\n",
      "keracizb\n",
      "of\n",
      "such\n",
      "shall\n",
      "one\n",
      "dab\n",
      "kindicaze\n",
      "zhe\n",
      "kigilanz\n",
      "and\n",
      "zhe\n",
      "kirzuous.\n",
      "Kerilb\n",
      "zhis\n",
      "kichyssoise\n",
      "of\n",
      "kerbiage\n",
      "kaars\n",
      "mosz\n",
      "kerbose,\n",
      "so\n",
      "lez\n",
      "me\n",
      "simplb\n",
      "add\n",
      "zhaz\n",
      "izs\n",
      "mb\n",
      "kerb\n",
      "good\n",
      "honour\n",
      "zo\n",
      "maaz\n",
      "you\n",
      "and\n",
      "you\n",
      "mab\n",
      "call\n",
      "me\n",
      "K.\n"
     ]
    }
   ],
   "source": [
    "# 2) Delete any occurrence of \"ugh\" with any number of h’s immediately followed by a punctuation mark.\n",
    "punct = re.escape(string.punctuation)\n",
    "curr = curr.apply(lambda s: re.sub(rf'ughh*[{punct}]', '', s))\n",
    "print_message(curr)"
   ]
  },
  {
   "cell_type": "code",
   "execution_count": 14,
   "metadata": {
    "colab": {
     "base_uri": "https://localhost:8080/"
    },
    "executionInfo": {
     "elapsed": 11,
     "status": "ok",
     "timestamp": 1760565501078,
     "user": {
      "displayName": "Nav Sanya Anand",
      "userId": "02554823300121068065"
     },
     "user_tz": 420
    },
    "id": "Ho6bG-OB4FUl",
    "outputId": "5f39e5bb-63bb-4213-c84f-43d31fde7889"
   },
   "outputs": [
    {
     "name": "stdout",
     "output_type": "stream",
     "text": [
      "Koila!\n",
      "In\n",
      "kiew,\n",
      "a\n",
      "humble\n",
      "kaudevillian\n",
      "kezeran,\n",
      "casz\n",
      "kicariouslb\n",
      "as\n",
      "bozh\n",
      "kiczim\n",
      "and\n",
      "killain\n",
      "bb\n",
      "zhe\n",
      "kicissizudes\n",
      "of\n",
      "faze.\n",
      "This\n",
      "kisage,\n",
      "no\n",
      "mere\n",
      "kenaar\n",
      "of\n",
      "kanizy,\n",
      "is\n",
      "a\n",
      "keszige\n",
      "of\n",
      "zhe\n",
      "kox\n",
      "populi\n",
      "now\n",
      "kacanz,\n",
      "kanished.\n",
      "However,\n",
      "zhis\n",
      "kalorous\n",
      "kisizazion\n",
      "of\n",
      "a\n",
      "bygone\n",
      "kexazion\n",
      "szands\n",
      "kivified,\n",
      "and\n",
      "has\n",
      "kowed\n",
      "zo\n",
      "kanquish\n",
      "zhese\n",
      "kenal\n",
      "and\n",
      "kirulenz\n",
      "kermin,\n",
      "kan\n",
      "guarding\n",
      "kice\n",
      "and\n",
      "kouchsafing\n",
      "zhe\n",
      "kiolenzlb\n",
      "kicious\n",
      "and\n",
      "koracious\n",
      "kiolazion\n",
      "of\n",
      "kolizion.\n",
      "The\n",
      "onlb\n",
      "kerdicz\n",
      "is\n",
      "kengeance;\n",
      "a\n",
      "kendezza,\n",
      "held\n",
      "as\n",
      "a\n",
      "kozive\n",
      "noz\n",
      "in\n",
      "kain,\n",
      "for\n",
      "zhe\n",
      "kalue\n",
      "and\n",
      "keracizb\n",
      "of\n",
      "such\n",
      "shall\n",
      "one\n",
      "dab\n",
      "kindicaze\n",
      "zhe\n",
      "kigilanz\n",
      "and\n",
      "zhe\n",
      "kirzuous.\n",
      "Kerilb\n",
      "zhis\n",
      "kichyssoise\n",
      "of\n",
      "kerbiage\n",
      "kaars\n",
      "mosz\n",
      "kerbose,\n",
      "so\n",
      "lez\n",
      "me\n",
      "simplb\n",
      "add\n",
      "zhaz\n",
      "izs\n",
      "mb\n",
      "kerb\n",
      "good\n",
      "honour\n",
      "zo\n",
      "maaz\n",
      "you\n",
      "and\n",
      "you\n",
      "mab\n",
      "call\n",
      "me\n",
      "K.\n"
     ]
    }
   ],
   "source": [
    "# 3) No word should be longer than 13 characters. Drop extras off the end.\n",
    "curr = curr.str.slice(0, 12)\n",
    "print_message(curr)"
   ]
  },
  {
   "cell_type": "code",
   "execution_count": 15,
   "metadata": {
    "colab": {
     "base_uri": "https://localhost:8080/"
    },
    "executionInfo": {
     "elapsed": 16,
     "status": "ok",
     "timestamp": 1760565501097,
     "user": {
      "displayName": "Nav Sanya Anand",
      "userId": "02554823300121068065"
     },
     "user_tz": 420
    },
    "id": "hC-VWwoO4FUl",
    "outputId": "e8afb480-d745-4f6d-87fd-a662a6976b0f"
   },
   "outputs": [
    {
     "name": "stdout",
     "output_type": "stream",
     "text": [
      "Koila!\n",
      "In\n",
      "kiew,\n",
      "a\n",
      "humble\n",
      "kaudevillian\n",
      "kezeran,\n",
      "casz\n",
      "kicariouslb\n",
      "as\n",
      "bozh\n",
      "kiczim\n",
      "and\n",
      "killain\n",
      "bb\n",
      "zhe\n",
      "kicissizudes\n",
      "of\n",
      "faze.\n",
      "This\n",
      "kisage,\n",
      "no\n",
      "mere\n",
      "keneer\n",
      "of\n",
      "kanizy,\n",
      "is\n",
      "a\n",
      "keszige\n",
      "of\n",
      "zhe\n",
      "kox\n",
      "populi\n",
      "now\n",
      "kacanz,\n",
      "kanished.\n",
      "However,\n",
      "zhis\n",
      "kalorous\n",
      "kisizazion\n",
      "of\n",
      "a\n",
      "bygone\n",
      "kexazion\n",
      "szands\n",
      "kivified,\n",
      "and\n",
      "has\n",
      "kowed\n",
      "zo\n",
      "kanquish\n",
      "zhese\n",
      "kenal\n",
      "and\n",
      "kirulenz\n",
      "kermin,\n",
      "kan\n",
      "guarding\n",
      "kice\n",
      "and\n",
      "kouchsafing\n",
      "zhe\n",
      "kiolenzlb\n",
      "kicious\n",
      "and\n",
      "koracious\n",
      "kiolazion\n",
      "of\n",
      "kolizion.\n",
      "The\n",
      "onlb\n",
      "kerdicz\n",
      "is\n",
      "kengeance;\n",
      "a\n",
      "kendezza,\n",
      "held\n",
      "as\n",
      "a\n",
      "kozive\n",
      "noz\n",
      "in\n",
      "kain,\n",
      "for\n",
      "zhe\n",
      "kalue\n",
      "and\n",
      "keracizb\n",
      "of\n",
      "such\n",
      "shall\n",
      "one\n",
      "dab\n",
      "kindicaze\n",
      "zhe\n",
      "kigilanz\n",
      "and\n",
      "zhe\n",
      "kirzuous.\n",
      "Kerilb\n",
      "zhis\n",
      "kichyssoise\n",
      "of\n",
      "kerbiage\n",
      "keers\n",
      "mosz\n",
      "kerbose,\n",
      "so\n",
      "lez\n",
      "me\n",
      "simplb\n",
      "add\n",
      "zhaz\n",
      "izs\n",
      "mb\n",
      "kerb\n",
      "good\n",
      "honour\n",
      "zo\n",
      "meez\n",
      "you\n",
      "and\n",
      "you\n",
      "mab\n",
      "call\n",
      "me\n",
      "K.\n"
     ]
    }
   ],
   "source": [
    "# 4) Replace all instances of exactly two a’s with exactly two e’s.\n",
    "curr = curr.apply(lambda s: re.sub(r'(?<!a)aa(?!a)', 'ee', s))\n",
    "print_message(curr)"
   ]
  },
  {
   "cell_type": "code",
   "execution_count": 16,
   "metadata": {
    "colab": {
     "base_uri": "https://localhost:8080/"
    },
    "executionInfo": {
     "elapsed": 36,
     "status": "ok",
     "timestamp": 1760565501132,
     "user": {
      "displayName": "Nav Sanya Anand",
      "userId": "02554823300121068065"
     },
     "user_tz": 420
    },
    "id": "HHWojB0V4FUl",
    "outputId": "373b9b4e-dbda-448d-df3e-07c370e0bc59"
   },
   "outputs": [
    {
     "name": "stdout",
     "output_type": "stream",
     "text": [
      "Koila!\n",
      "In\n",
      "kiew,\n",
      "a\n",
      "humble\n",
      "kaudevillian\n",
      "keteran,\n",
      "cast\n",
      "kicariouslb\n",
      "as\n",
      "both\n",
      "kictim\n",
      "and\n",
      "killain\n",
      "bb\n",
      "the\n",
      "kicissitudes\n",
      "of\n",
      "fate.\n",
      "This\n",
      "kisage,\n",
      "no\n",
      "mere\n",
      "keneer\n",
      "of\n",
      "kanity,\n",
      "is\n",
      "a\n",
      "kestige\n",
      "of\n",
      "the\n",
      "kox\n",
      "populi\n",
      "now\n",
      "kacant,\n",
      "kanished.\n",
      "However,\n",
      "this\n",
      "kalorous\n",
      "kisitation\n",
      "of\n",
      "a\n",
      "bygone\n",
      "kexation\n",
      "stands\n",
      "kivified,\n",
      "and\n",
      "has\n",
      "kowed\n",
      "to\n",
      "kanquish\n",
      "these\n",
      "kenal\n",
      "and\n",
      "kirulent\n",
      "kermin,\n",
      "kan\n",
      "guarding\n",
      "kice\n",
      "and\n",
      "kouchsafing\n",
      "the\n",
      "kiolentlb\n",
      "kicious\n",
      "and\n",
      "koracious\n",
      "kiolation\n",
      "of\n",
      "kolition.\n",
      "The\n",
      "onlb\n",
      "kerdict\n",
      "is\n",
      "kengeance;\n",
      "a\n",
      "kendetta,\n",
      "held\n",
      "as\n",
      "a\n",
      "kotive\n",
      "not\n",
      "in\n",
      "kain,\n",
      "for\n",
      "the\n",
      "kalue\n",
      "and\n",
      "keracitb\n",
      "of\n",
      "such\n",
      "shall\n",
      "one\n",
      "dab\n",
      "kindicate\n",
      "the\n",
      "kigilant\n",
      "and\n",
      "the\n",
      "kirtuous.\n",
      "Kerilb\n",
      "this\n",
      "kichyssoise\n",
      "of\n",
      "kerbiage\n",
      "keers\n",
      "most\n",
      "kerbose,\n",
      "so\n",
      "let\n",
      "me\n",
      "simplb\n",
      "add\n",
      "that\n",
      "its\n",
      "mb\n",
      "kerb\n",
      "good\n",
      "honour\n",
      "to\n",
      "meet\n",
      "you\n",
      "and\n",
      "you\n",
      "mab\n",
      "call\n",
      "me\n",
      "K.\n"
     ]
    }
   ],
   "source": [
    "# 5) Replace all z’s with t’s.\n",
    "curr = curr.str.replace('z', 't', regex=False)\n",
    "print_message(curr)"
   ]
  },
  {
   "cell_type": "code",
   "execution_count": 17,
   "metadata": {
    "colab": {
     "base_uri": "https://localhost:8080/"
    },
    "executionInfo": {
     "elapsed": 10,
     "status": "ok",
     "timestamp": 1760565501138,
     "user": {
      "displayName": "Nav Sanya Anand",
      "userId": "02554823300121068065"
     },
     "user_tz": 420
    },
    "id": "tTqEZFyE4FUl",
    "outputId": "a8a41ce1-c205-40ae-e00b-a044950bc556"
   },
   "outputs": [
    {
     "name": "stdout",
     "output_type": "stream",
     "text": [
      "Koila!\n",
      "In\n",
      "kiew,\n",
      "a\n",
      "humble\n",
      "kaudevillian\n",
      "keteran,\n",
      "cast\n",
      "kicariously\n",
      "as\n",
      "both\n",
      "kictim\n",
      "and\n",
      "killain\n",
      "by\n",
      "the\n",
      "kicissitudes\n",
      "of\n",
      "fate.\n",
      "This\n",
      "kisage,\n",
      "no\n",
      "mere\n",
      "keneer\n",
      "of\n",
      "kanity,\n",
      "is\n",
      "a\n",
      "kestige\n",
      "of\n",
      "the\n",
      "kox\n",
      "populi\n",
      "now\n",
      "kacant,\n",
      "kanished.\n",
      "However,\n",
      "this\n",
      "kalorous\n",
      "kisitation\n",
      "of\n",
      "a\n",
      "bygone\n",
      "kexation\n",
      "stands\n",
      "kivified,\n",
      "and\n",
      "has\n",
      "kowed\n",
      "to\n",
      "kanquish\n",
      "these\n",
      "kenal\n",
      "and\n",
      "kirulent\n",
      "kermin,\n",
      "kan\n",
      "guarding\n",
      "kice\n",
      "and\n",
      "kouchsafing\n",
      "the\n",
      "kiolently\n",
      "kicious\n",
      "and\n",
      "koracious\n",
      "kiolation\n",
      "of\n",
      "kolition.\n",
      "The\n",
      "only\n",
      "kerdict\n",
      "is\n",
      "kengeance;\n",
      "a\n",
      "kendetta,\n",
      "held\n",
      "as\n",
      "a\n",
      "kotive\n",
      "not\n",
      "in\n",
      "kain,\n",
      "for\n",
      "the\n",
      "kalue\n",
      "and\n",
      "keracity\n",
      "of\n",
      "such\n",
      "shall\n",
      "one\n",
      "day\n",
      "kindicate\n",
      "the\n",
      "kigilant\n",
      "and\n",
      "the\n",
      "kirtuous.\n",
      "Kerily\n",
      "this\n",
      "kichyssoise\n",
      "of\n",
      "kerbiage\n",
      "keers\n",
      "most\n",
      "kerbose,\n",
      "so\n",
      "let\n",
      "me\n",
      "simply\n",
      "add\n",
      "that\n",
      "its\n",
      "my\n",
      "kery\n",
      "good\n",
      "honour\n",
      "to\n",
      "meet\n",
      "you\n",
      "and\n",
      "you\n",
      "may\n",
      "call\n",
      "me\n",
      "K.\n"
     ]
    }
   ],
   "source": [
    "# 6) Every word that ends in b should end in y. (Watch for trailing punctuation.)\n",
    "def end_b_to_y(token: str) -> str:\n",
    "    if not token:\n",
    "        return token\n",
    "    m = re.match(r'^(.*?)([' + punct + r']*)$', token)\n",
    "    core, trail = m.group(1), m.group(2)\n",
    "    if core.endswith('b'):\n",
    "        core = core[:-1] + 'y'\n",
    "    return core + trail\n",
    "\n",
    "curr = curr.apply(end_b_to_y)\n",
    "print_message(curr)"
   ]
  },
  {
   "cell_type": "code",
   "execution_count": 18,
   "metadata": {
    "colab": {
     "base_uri": "https://localhost:8080/"
    },
    "executionInfo": {
     "elapsed": 11,
     "status": "ok",
     "timestamp": 1760565501151,
     "user": {
      "displayName": "Nav Sanya Anand",
      "userId": "02554823300121068065"
     },
     "user_tz": 420
    },
    "id": "Oj2tf8oA4FUm",
    "outputId": "23f023fc-11bd-41d5-a94d-1ff8f4c1be46"
   },
   "outputs": [
    {
     "name": "stdout",
     "output_type": "stream",
     "text": [
      "Voila!\n",
      "In\n",
      "view,\n",
      "a\n",
      "humble\n",
      "vaudevillian\n",
      "veteran,\n",
      "cast\n",
      "vicariously\n",
      "as\n",
      "both\n",
      "victim\n",
      "and\n",
      "villain\n",
      "by\n",
      "the\n",
      "vicissitudes\n",
      "of\n",
      "fate.\n",
      "This\n",
      "visage,\n",
      "no\n",
      "mere\n",
      "veneer\n",
      "of\n",
      "vanity,\n",
      "is\n",
      "a\n",
      "vestige\n",
      "of\n",
      "the\n",
      "vox\n",
      "populi\n",
      "now\n",
      "vacant,\n",
      "vanished.\n",
      "However,\n",
      "this\n",
      "valorous\n",
      "visitation\n",
      "of\n",
      "a\n",
      "bygone\n",
      "vexation\n",
      "stands\n",
      "vivified,\n",
      "and\n",
      "has\n",
      "vowed\n",
      "to\n",
      "vanquish\n",
      "these\n",
      "venal\n",
      "and\n",
      "virulent\n",
      "vermin,\n",
      "van\n",
      "guarding\n",
      "vice\n",
      "and\n",
      "vouchsafing\n",
      "the\n",
      "violently\n",
      "vicious\n",
      "and\n",
      "voracious\n",
      "violation\n",
      "of\n",
      "volition.\n",
      "The\n",
      "only\n",
      "verdict\n",
      "is\n",
      "vengeance;\n",
      "a\n",
      "vendetta,\n",
      "held\n",
      "as\n",
      "a\n",
      "votive\n",
      "not\n",
      "in\n",
      "vain,\n",
      "for\n",
      "the\n",
      "value\n",
      "and\n",
      "veracity\n",
      "of\n",
      "such\n",
      "shall\n",
      "one\n",
      "day\n",
      "vindicate\n",
      "the\n",
      "vigilant\n",
      "and\n",
      "the\n",
      "virtuous.\n",
      "Verily\n",
      "this\n",
      "vichyssoise\n",
      "of\n",
      "verbiage\n",
      "veers\n",
      "most\n",
      "verbose,\n",
      "so\n",
      "let\n",
      "me\n",
      "simply\n",
      "add\n",
      "that\n",
      "its\n",
      "my\n",
      "very\n",
      "good\n",
      "honour\n",
      "to\n",
      "meet\n",
      "you\n",
      "and\n",
      "you\n",
      "may\n",
      "call\n",
      "me\n",
      "V.\n"
     ]
    }
   ],
   "source": [
    "# 7) Every word that starts with k becomes v (preserve capitalization: K→V).\n",
    "def start_k_to_v(token: str) -> str:\n",
    "    if token.startswith('k'):\n",
    "        return 'v' + token[1:]\n",
    "    if token.startswith('K'):\n",
    "        return 'V' + token[1:]\n",
    "    return token\n",
    "\n",
    "curr = curr.apply(start_k_to_v)\n",
    "print_message(curr)"
   ]
  },
  {
   "cell_type": "code",
   "execution_count": 19,
   "metadata": {
    "colab": {
     "base_uri": "https://localhost:8080/"
    },
    "executionInfo": {
     "elapsed": 8,
     "status": "ok",
     "timestamp": 1760565501160,
     "user": {
      "displayName": "Nav Sanya Anand",
      "userId": "02554823300121068065"
     },
     "user_tz": 420
    },
    "id": "9NrJacZO4FUm",
    "outputId": "920b12cb-0a98-49f9-9a15-4f93149bfd28"
   },
   "outputs": [
    {
     "name": "stdout",
     "output_type": "stream",
     "text": [
      "Voila! In view, a humble vaudevillian veteran, cast vicariously as both victim and villain by the vicissitudes of fate. This visage, no mere veneer of vanity, is a vestige of the vox populi now vacant, vanished. However, this valorous visitation of a bygone vexation stands vivified, and has vowed to vanquish these venal and virulent vermin, van guarding vice and vouchsafing the violently vicious and voracious violation of volition. The only verdict is vengeance; a vendetta, held as a votive not in vain, for the value and veracity of such shall one day vindicate the vigilant and the virtuous. Verily this vichyssoise of verbiage veers most verbose, so let me simply add that its my very good honour to meet you and you may call me V.\n"
     ]
    }
   ],
   "source": [
    "decoded_message = \" \".join(curr.tolist())\n",
    "print(decoded_message)\n"
   ]
  }
 ],
 "metadata": {
  "colab": {
   "provenance": []
  },
  "kernelspec": {
   "display_name": "Python 3",
   "language": "python",
   "name": "python3"
  },
  "language_info": {
   "name": "python"
  }
 },
 "nbformat": 4,
 "nbformat_minor": 0
}
